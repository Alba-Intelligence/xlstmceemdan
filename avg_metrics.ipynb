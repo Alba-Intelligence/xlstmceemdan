{
 "cells": [
  {
   "cell_type": "code",
   "execution_count": 1,
   "metadata": {},
   "outputs": [
    {
     "output_type": "stream",
     "name": "stdout",
     "text": "xlstm_ceemdan_full_exp\nxlstm_ceemdan_full_exp\nxlstm_ceemdan_full_exp\nlstm_ceemdan_spline_exp\nlstm_ceemdan_spline_exp\nxlstm_ceemdan_full_spline_exp\nlstm_ceemdan_spline_exp\nlstm_ceemdan_exp\nxlstm_ceemdan_full_spline_exp\nlstm_ceemdan_spline_exp\nxlstm_ceemdan_full_spline_exp\nlstm_ceemdan_spline_exp\nlstm_ceemdan_spline_exp\nlstm_ceemdan_exp\nxlstm_ceemdan_full_spline_exp\nlstm_ceemdan_exp\nlstm_ceemdan_exp\nxlstm_ceemdan_full_exp\nlstm_ceemdan_spline_exp\nxlstm_ceemdan_full_exp\nxlstm_ceemdan_full_exp\nxlstm_ceemdan_full_spline_exp\nxlstm_ceemdan_full_spline_exp\nlstm_ceemdan_exp\nxlstm_ceemdan_full_spline_exp\nxlstm_ceemdan_full_exp\nxlstm_ceemdan_full_spline_exp\nlstm_ceemdan_spline_exp\nlstm_ceemdan_exp\nlstm_ceemdan_spline_exp\nxlstm_ceemdan_full_exp\nlstm_ceemdan_spline_exp\nxlstm_ceemdan_full_spline_exp\nlstm_ceemdan_exp\nlstm_ceemdan_spline_exp\nlstm_ceemdan_exp\nlstm_ceemdan_exp\nxlstm_ceemdan_full_spline_exp\nlstm_ceemdan_exp\nxlstm_ceemdan_full_exp\nxlstm_ceemdan_full_spline_exp\nxlstm_ceemdan_full_exp\n"
    }
   ],
   "source": [
    "import pandas as pd\n",
    "import numpy as np\n",
    "import glob\n",
    "\n",
    "# path = \"exp_records/*.csv\"\n",
    "path = \"exp_records_3rd_batch/*.csv\"\n",
    "tickers = [\"PETR4\", \"VALE3\", \"BOVA11\", \"ITUB4\", \"BBDC4\", \"B3SA3\", \"BBAS3\", \"ABEV3\", \"MGLU3\", \"VVAR3\"]\n",
    "index_name_mapping = {\n",
    "    0: \"PETR4\",\n",
    "    1: \"VALE3\",\n",
    "    2: \"BOVA11\",\n",
    "    3: \"ITUB4\",\n",
    "    4: \"BBDC4\",\n",
    "    5: \"B3SA3\",\n",
    "    6: \"BBAS3\",\n",
    "    7: \"ABEV3\",\n",
    "    8: \"MGLU3\",\n",
    "    9: \"VVAR3\"\n",
    "}\n",
    "\n",
    "lstm_ceemdan_exp_dfs = []\n",
    "lstm_ceemdan_spline_exp_dfs = []\n",
    "xlstm_ceemdan_exp_dfs = []\n",
    "xlstm_ceemdan_spline_exp_dfs = []  \n",
    "\n",
    "for exp_name in glob.glob(path):\n",
    "    df = pd.read_csv(exp_name)\n",
    "    exp_name = f'{exp_name[:-24]}_exp'\n",
    "    if \"lstm_ceemdan_exp\" in exp_name:\n",
    "        print(\"lstm_ceemdan_exp\")\n",
    "        lstm_ceemdan_exp_dfs += [df]\n",
    "    if \"lstm_ceemdan_spline_exp\" in exp_name:\n",
    "        print(\"lstm_ceemdan_spline_exp\")\n",
    "        lstm_ceemdan_spline_exp_dfs += [df]\n",
    "    if \"xlstm_ceemdan_full_exp\" in exp_name:\n",
    "        print(\"xlstm_ceemdan_full_exp\")\n",
    "        xlstm_ceemdan_exp_dfs += [df]\n",
    "    if \"xlstm_ceemdan_full_spline_exp\" in exp_name:\n",
    "        print(\"xlstm_ceemdan_full_spline_exp\")\n",
    "        xlstm_ceemdan_spline_exp_dfs += [df]\n",
    "        \n",
    "lstm_ceemdan_exp_dfs_concat = pd.concat(lstm_ceemdan_exp_dfs)\n",
    "lstm_ceemdan_spline_exp_dfs_concat = pd.concat(lstm_ceemdan_spline_exp_dfs)\n",
    "xlstm_ceemdan_exp_dfs_concat = pd.concat(xlstm_ceemdan_exp_dfs)\n",
    "xlstm_ceemdan_spline_exp_dfs_concat = pd.concat(xlstm_ceemdan_spline_exp_dfs)"
   ]
  },
  {
   "cell_type": "markdown",
   "metadata": {},
   "source": [
    "# Absolute accuracies by ticker"
   ]
  },
  {
   "cell_type": "code",
   "execution_count": 2,
   "metadata": {},
   "outputs": [
    {
     "output_type": "stream",
     "name": "stdout",
     "text": "LSTM CEEMDAN\n"
    },
    {
     "output_type": "execute_result",
     "data": {
      "text/plain": "        mse_avg  mse_std  mape_avg  mape_std\nPETR4     0.282    0.246     1.300     0.160\nVALE3     0.564    0.492     1.453     0.399\nBOVA11    1.403    0.757     0.872     0.213\nITUB4     0.088    0.053     1.180     0.232\nBBDC4     0.192    0.123     1.483     0.327\nB3SA3     0.568    0.569     1.495     0.405\nBBAS3     0.591    0.418     1.946     0.639\nABEV3     0.105    0.042     0.989     0.251\nMGLU3     1.025    0.321     1.923     0.403\nVVAR3     0.110    0.113     2.867     0.897",
      "text/html": "<div>\n<style scoped>\n    .dataframe tbody tr th:only-of-type {\n        vertical-align: middle;\n    }\n\n    .dataframe tbody tr th {\n        vertical-align: top;\n    }\n\n    .dataframe thead th {\n        text-align: right;\n    }\n</style>\n<table border=\"1\" class=\"dataframe\">\n  <thead>\n    <tr style=\"text-align: right;\">\n      <th></th>\n      <th>mse_avg</th>\n      <th>mse_std</th>\n      <th>mape_avg</th>\n      <th>mape_std</th>\n    </tr>\n  </thead>\n  <tbody>\n    <tr>\n      <th>PETR4</th>\n      <td>0.282</td>\n      <td>0.246</td>\n      <td>1.300</td>\n      <td>0.160</td>\n    </tr>\n    <tr>\n      <th>VALE3</th>\n      <td>0.564</td>\n      <td>0.492</td>\n      <td>1.453</td>\n      <td>0.399</td>\n    </tr>\n    <tr>\n      <th>BOVA11</th>\n      <td>1.403</td>\n      <td>0.757</td>\n      <td>0.872</td>\n      <td>0.213</td>\n    </tr>\n    <tr>\n      <th>ITUB4</th>\n      <td>0.088</td>\n      <td>0.053</td>\n      <td>1.180</td>\n      <td>0.232</td>\n    </tr>\n    <tr>\n      <th>BBDC4</th>\n      <td>0.192</td>\n      <td>0.123</td>\n      <td>1.483</td>\n      <td>0.327</td>\n    </tr>\n    <tr>\n      <th>B3SA3</th>\n      <td>0.568</td>\n      <td>0.569</td>\n      <td>1.495</td>\n      <td>0.405</td>\n    </tr>\n    <tr>\n      <th>BBAS3</th>\n      <td>0.591</td>\n      <td>0.418</td>\n      <td>1.946</td>\n      <td>0.639</td>\n    </tr>\n    <tr>\n      <th>ABEV3</th>\n      <td>0.105</td>\n      <td>0.042</td>\n      <td>0.989</td>\n      <td>0.251</td>\n    </tr>\n    <tr>\n      <th>MGLU3</th>\n      <td>1.025</td>\n      <td>0.321</td>\n      <td>1.923</td>\n      <td>0.403</td>\n    </tr>\n    <tr>\n      <th>VVAR3</th>\n      <td>0.110</td>\n      <td>0.113</td>\n      <td>2.867</td>\n      <td>0.897</td>\n    </tr>\n  </tbody>\n</table>\n</div>"
     },
     "metadata": {},
     "execution_count": 2
    }
   ],
   "source": [
    "lstm_ceemdan_std = lstm_ceemdan_exp_dfs_concat.groupby(lstm_ceemdan_exp_dfs_concat.index).std()\n",
    "lstm_ceemdan_std.columns = ['mse_std', 'mape_std']\n",
    "lstm_ceemdan_avg = lstm_ceemdan_exp_dfs_concat.groupby(lstm_ceemdan_exp_dfs_concat.index).mean()\n",
    "lstm_ceemdan_avg.columns = ['mse_avg', 'mape_avg']\n",
    "\n",
    "lstm_ceemdan = pd.concat([lstm_ceemdan_avg,lstm_ceemdan_std], axis=1)\n",
    "lstm_ceemdan = lstm_ceemdan.rename(index=index_name_mapping)\n",
    "lstm_ceemdan = lstm_ceemdan[['mse_avg','mse_std','mape_avg','mape_std']]\n",
    "lstm_ceemdan = lstm_ceemdan.round(decimals=3)\n",
    "\n",
    "lstm_ceemdan.to_csv(f'summary_results/avg_results_lstm_ceemdan.csv', sep=',', encoding='utf-8')\n",
    "\n",
    "print('LSTM CEEMDAN')\n",
    "lstm_ceemdan"
   ]
  },
  {
   "cell_type": "code",
   "execution_count": 3,
   "metadata": {},
   "outputs": [
    {
     "output_type": "stream",
     "name": "stdout",
     "text": "LSTM CEEMDAN SPLINE\n"
    },
    {
     "output_type": "execute_result",
     "data": {
      "text/plain": "        mse_avg  mse_std  mape_avg  mape_std\nPETR4     0.140    0.006     0.930     0.055\nVALE3     0.347    0.101     0.996     0.134\nBOVA11    0.302    0.046     0.653     0.048\nITUB4     0.051    0.007     1.047     0.038\nBBDC4     0.093    0.015     0.887     0.088\nB3SA3     0.272    0.015     1.217     0.048\nBBAS3     0.178    0.048     1.184     0.083\nABEV3     0.051    0.006     0.678     0.077\nMGLU3     0.628    0.058     1.464     0.065\nVVAR3     0.010    0.001     1.948     0.076",
      "text/html": "<div>\n<style scoped>\n    .dataframe tbody tr th:only-of-type {\n        vertical-align: middle;\n    }\n\n    .dataframe tbody tr th {\n        vertical-align: top;\n    }\n\n    .dataframe thead th {\n        text-align: right;\n    }\n</style>\n<table border=\"1\" class=\"dataframe\">\n  <thead>\n    <tr style=\"text-align: right;\">\n      <th></th>\n      <th>mse_avg</th>\n      <th>mse_std</th>\n      <th>mape_avg</th>\n      <th>mape_std</th>\n    </tr>\n  </thead>\n  <tbody>\n    <tr>\n      <th>PETR4</th>\n      <td>0.140</td>\n      <td>0.006</td>\n      <td>0.930</td>\n      <td>0.055</td>\n    </tr>\n    <tr>\n      <th>VALE3</th>\n      <td>0.347</td>\n      <td>0.101</td>\n      <td>0.996</td>\n      <td>0.134</td>\n    </tr>\n    <tr>\n      <th>BOVA11</th>\n      <td>0.302</td>\n      <td>0.046</td>\n      <td>0.653</td>\n      <td>0.048</td>\n    </tr>\n    <tr>\n      <th>ITUB4</th>\n      <td>0.051</td>\n      <td>0.007</td>\n      <td>1.047</td>\n      <td>0.038</td>\n    </tr>\n    <tr>\n      <th>BBDC4</th>\n      <td>0.093</td>\n      <td>0.015</td>\n      <td>0.887</td>\n      <td>0.088</td>\n    </tr>\n    <tr>\n      <th>B3SA3</th>\n      <td>0.272</td>\n      <td>0.015</td>\n      <td>1.217</td>\n      <td>0.048</td>\n    </tr>\n    <tr>\n      <th>BBAS3</th>\n      <td>0.178</td>\n      <td>0.048</td>\n      <td>1.184</td>\n      <td>0.083</td>\n    </tr>\n    <tr>\n      <th>ABEV3</th>\n      <td>0.051</td>\n      <td>0.006</td>\n      <td>0.678</td>\n      <td>0.077</td>\n    </tr>\n    <tr>\n      <th>MGLU3</th>\n      <td>0.628</td>\n      <td>0.058</td>\n      <td>1.464</td>\n      <td>0.065</td>\n    </tr>\n    <tr>\n      <th>VVAR3</th>\n      <td>0.010</td>\n      <td>0.001</td>\n      <td>1.948</td>\n      <td>0.076</td>\n    </tr>\n  </tbody>\n</table>\n</div>"
     },
     "metadata": {},
     "execution_count": 3
    }
   ],
   "source": [
    "lstm_ceemdan_spline_std = lstm_ceemdan_spline_exp_dfs_concat.groupby(lstm_ceemdan_spline_exp_dfs_concat.index).std()\n",
    "lstm_ceemdan_spline_std.columns = ['mse_std', 'mape_std']\n",
    "lstm_ceemdan_spline_avg = lstm_ceemdan_spline_exp_dfs_concat.groupby(lstm_ceemdan_spline_exp_dfs_concat.index).mean()\n",
    "lstm_ceemdan_spline_avg.columns = ['mse_avg', 'mape_avg']\n",
    "\n",
    "lstm_ceemdan_spline = pd.concat([lstm_ceemdan_spline_avg,lstm_ceemdan_spline_std], axis=1)\n",
    "lstm_ceemdan_spline = lstm_ceemdan_spline.rename(index=index_name_mapping)\n",
    "lstm_ceemdan_spline = lstm_ceemdan_spline[['mse_avg','mse_std','mape_avg','mape_std']]\n",
    "lstm_ceemdan_spline = lstm_ceemdan_spline.round(decimals=3)\n",
    "\n",
    "lstm_ceemdan_spline.to_csv(f'summary_results/avg_results_lstm_ceemdan_spline.csv', sep=',', encoding='utf-8')\n",
    "\n",
    "print('LSTM CEEMDAN SPLINE')\n",
    "lstm_ceemdan_spline"
   ]
  },
  {
   "cell_type": "code",
   "execution_count": 4,
   "metadata": {},
   "outputs": [
    {
     "output_type": "stream",
     "name": "stdout",
     "text": "XLSTM CEEMDAN\n"
    },
    {
     "output_type": "execute_result",
     "data": {
      "text/plain": "        mse_avg  mse_std  mape_avg  mape_std\nPETR4     0.175    0.089     1.334     0.430\nVALE3     1.460    1.243     1.256     0.190\nBOVA11    2.389    3.162     1.364     0.628\nITUB4     0.272    0.228     1.248     0.208\nBBDC4     0.682    0.797     2.604     1.362\nB3SA3     5.248    4.789     2.270     1.169\nBBAS3     4.049    3.319     3.200     1.611\nABEV3     0.114    0.055     1.542     0.593\nMGLU3     2.242    1.460     2.799     1.103\nVVAR3     0.147    0.176     2.701     0.823",
      "text/html": "<div>\n<style scoped>\n    .dataframe tbody tr th:only-of-type {\n        vertical-align: middle;\n    }\n\n    .dataframe tbody tr th {\n        vertical-align: top;\n    }\n\n    .dataframe thead th {\n        text-align: right;\n    }\n</style>\n<table border=\"1\" class=\"dataframe\">\n  <thead>\n    <tr style=\"text-align: right;\">\n      <th></th>\n      <th>mse_avg</th>\n      <th>mse_std</th>\n      <th>mape_avg</th>\n      <th>mape_std</th>\n    </tr>\n  </thead>\n  <tbody>\n    <tr>\n      <th>PETR4</th>\n      <td>0.175</td>\n      <td>0.089</td>\n      <td>1.334</td>\n      <td>0.430</td>\n    </tr>\n    <tr>\n      <th>VALE3</th>\n      <td>1.460</td>\n      <td>1.243</td>\n      <td>1.256</td>\n      <td>0.190</td>\n    </tr>\n    <tr>\n      <th>BOVA11</th>\n      <td>2.389</td>\n      <td>3.162</td>\n      <td>1.364</td>\n      <td>0.628</td>\n    </tr>\n    <tr>\n      <th>ITUB4</th>\n      <td>0.272</td>\n      <td>0.228</td>\n      <td>1.248</td>\n      <td>0.208</td>\n    </tr>\n    <tr>\n      <th>BBDC4</th>\n      <td>0.682</td>\n      <td>0.797</td>\n      <td>2.604</td>\n      <td>1.362</td>\n    </tr>\n    <tr>\n      <th>B3SA3</th>\n      <td>5.248</td>\n      <td>4.789</td>\n      <td>2.270</td>\n      <td>1.169</td>\n    </tr>\n    <tr>\n      <th>BBAS3</th>\n      <td>4.049</td>\n      <td>3.319</td>\n      <td>3.200</td>\n      <td>1.611</td>\n    </tr>\n    <tr>\n      <th>ABEV3</th>\n      <td>0.114</td>\n      <td>0.055</td>\n      <td>1.542</td>\n      <td>0.593</td>\n    </tr>\n    <tr>\n      <th>MGLU3</th>\n      <td>2.242</td>\n      <td>1.460</td>\n      <td>2.799</td>\n      <td>1.103</td>\n    </tr>\n    <tr>\n      <th>VVAR3</th>\n      <td>0.147</td>\n      <td>0.176</td>\n      <td>2.701</td>\n      <td>0.823</td>\n    </tr>\n  </tbody>\n</table>\n</div>"
     },
     "metadata": {},
     "execution_count": 4
    }
   ],
   "source": [
    "xlstm_ceemdan_std = xlstm_ceemdan_exp_dfs_concat.groupby(xlstm_ceemdan_exp_dfs_concat.index).std()\n",
    "xlstm_ceemdan_std.columns = ['mse_std', 'mape_std']\n",
    "xlstm_ceemdan_avg = xlstm_ceemdan_exp_dfs_concat.groupby(xlstm_ceemdan_exp_dfs_concat.index).mean()\n",
    "xlstm_ceemdan_avg.columns = ['mse_avg', 'mape_avg']\n",
    "\n",
    "xlstm_ceemdan = pd.concat([xlstm_ceemdan_avg,xlstm_ceemdan_std], axis=1)\n",
    "xlstm_ceemdan = xlstm_ceemdan.rename(index=index_name_mapping)\n",
    "xlstm_ceemdan = xlstm_ceemdan[['mse_avg','mse_std','mape_avg','mape_std']]\n",
    "xlstm_ceemdan = xlstm_ceemdan.round(decimals=3)\n",
    "\n",
    "xlstm_ceemdan.to_csv(f'summary_results/avg_results_xlstm_ceemdan.csv', sep=',', encoding='utf-8')\n",
    "\n",
    "print('XLSTM CEEMDAN')\n",
    "xlstm_ceemdan"
   ]
  },
  {
   "cell_type": "code",
   "execution_count": 5,
   "metadata": {},
   "outputs": [
    {
     "output_type": "stream",
     "name": "stdout",
     "text": "XLSTM CEEMDAN SPLINE\n"
    },
    {
     "output_type": "execute_result",
     "data": {
      "text/plain": "        mse_avg  mse_std  mape_avg  mape_std\nPETR4     0.122    0.024     0.957     0.109\nVALE3     0.356    0.099     0.995     0.193\nBOVA11    0.305    0.101     0.572     0.064\nITUB4     0.067    0.019     1.040     0.058\nBBDC4     0.110    0.032     0.841     0.084\nB3SA3     0.299    0.050     1.077     0.114\nBBAS3     0.161    0.020     1.038     0.053\nABEV3     0.053    0.005     0.708     0.138\nMGLU3     0.717    0.121     1.193     0.049\nVVAR3     0.015    0.003     1.710     0.230",
      "text/html": "<div>\n<style scoped>\n    .dataframe tbody tr th:only-of-type {\n        vertical-align: middle;\n    }\n\n    .dataframe tbody tr th {\n        vertical-align: top;\n    }\n\n    .dataframe thead th {\n        text-align: right;\n    }\n</style>\n<table border=\"1\" class=\"dataframe\">\n  <thead>\n    <tr style=\"text-align: right;\">\n      <th></th>\n      <th>mse_avg</th>\n      <th>mse_std</th>\n      <th>mape_avg</th>\n      <th>mape_std</th>\n    </tr>\n  </thead>\n  <tbody>\n    <tr>\n      <th>PETR4</th>\n      <td>0.122</td>\n      <td>0.024</td>\n      <td>0.957</td>\n      <td>0.109</td>\n    </tr>\n    <tr>\n      <th>VALE3</th>\n      <td>0.356</td>\n      <td>0.099</td>\n      <td>0.995</td>\n      <td>0.193</td>\n    </tr>\n    <tr>\n      <th>BOVA11</th>\n      <td>0.305</td>\n      <td>0.101</td>\n      <td>0.572</td>\n      <td>0.064</td>\n    </tr>\n    <tr>\n      <th>ITUB4</th>\n      <td>0.067</td>\n      <td>0.019</td>\n      <td>1.040</td>\n      <td>0.058</td>\n    </tr>\n    <tr>\n      <th>BBDC4</th>\n      <td>0.110</td>\n      <td>0.032</td>\n      <td>0.841</td>\n      <td>0.084</td>\n    </tr>\n    <tr>\n      <th>B3SA3</th>\n      <td>0.299</td>\n      <td>0.050</td>\n      <td>1.077</td>\n      <td>0.114</td>\n    </tr>\n    <tr>\n      <th>BBAS3</th>\n      <td>0.161</td>\n      <td>0.020</td>\n      <td>1.038</td>\n      <td>0.053</td>\n    </tr>\n    <tr>\n      <th>ABEV3</th>\n      <td>0.053</td>\n      <td>0.005</td>\n      <td>0.708</td>\n      <td>0.138</td>\n    </tr>\n    <tr>\n      <th>MGLU3</th>\n      <td>0.717</td>\n      <td>0.121</td>\n      <td>1.193</td>\n      <td>0.049</td>\n    </tr>\n    <tr>\n      <th>VVAR3</th>\n      <td>0.015</td>\n      <td>0.003</td>\n      <td>1.710</td>\n      <td>0.230</td>\n    </tr>\n  </tbody>\n</table>\n</div>"
     },
     "metadata": {},
     "execution_count": 5
    }
   ],
   "source": [
    "xlstm_ceemdan_spline_std = xlstm_ceemdan_spline_exp_dfs_concat.groupby(xlstm_ceemdan_spline_exp_dfs_concat.index).std()\n",
    "xlstm_ceemdan_spline_std.columns = ['mse_std', 'mape_std']\n",
    "xlstm_ceemdan_spline_avg = xlstm_ceemdan_spline_exp_dfs_concat.groupby(xlstm_ceemdan_spline_exp_dfs_concat.index).mean()\n",
    "xlstm_ceemdan_spline_avg.columns = ['mse_avg', 'mape_avg']\n",
    "\n",
    "xlstm_ceemdan_spline = pd.concat([xlstm_ceemdan_spline_avg,xlstm_ceemdan_spline_std], axis=1)\n",
    "xlstm_ceemdan_spline = xlstm_ceemdan_spline.rename(index=index_name_mapping)\n",
    "xlstm_ceemdan_spline = xlstm_ceemdan_spline[['mse_avg','mse_std','mape_avg','mape_std']]\n",
    "xlstm_ceemdan_spline = xlstm_ceemdan_spline.round(decimals=3)\n",
    "\n",
    "xlstm_ceemdan_spline.to_csv(f'summary_results/avg_results_xlstm_ceemdan_spline.csv', sep=',', encoding='utf-8')\n",
    "\n",
    "print('XLSTM CEEMDAN SPLINE')\n",
    "xlstm_ceemdan_spline"
   ]
  },
  {
   "cell_type": "markdown",
   "metadata": {},
   "source": [
    "# Absolute average accuracies comparison"
   ]
  },
  {
   "cell_type": "code",
   "execution_count": 6,
   "metadata": {},
   "outputs": [
    {
     "output_type": "stream",
     "name": "stdout",
     "text": "neural/spline threshold at IMF3\n"
    },
    {
     "output_type": "execute_result",
     "data": {
      "text/plain": "          vanilla       x  spline  x+spline\nmse_avg    0.4928  1.6778  0.2072    0.2205\nmse_std    0.3134  1.5318  0.0303    0.0474\nmape_avg   1.5508  2.0318  1.1004    1.0131\nmape_std   0.3926  0.8117  0.0712    0.1092",
      "text/html": "<div>\n<style scoped>\n    .dataframe tbody tr th:only-of-type {\n        vertical-align: middle;\n    }\n\n    .dataframe tbody tr th {\n        vertical-align: top;\n    }\n\n    .dataframe thead th {\n        text-align: right;\n    }\n</style>\n<table border=\"1\" class=\"dataframe\">\n  <thead>\n    <tr style=\"text-align: right;\">\n      <th></th>\n      <th>vanilla</th>\n      <th>x</th>\n      <th>spline</th>\n      <th>x+spline</th>\n    </tr>\n  </thead>\n  <tbody>\n    <tr>\n      <th>mse_avg</th>\n      <td>0.4928</td>\n      <td>1.6778</td>\n      <td>0.2072</td>\n      <td>0.2205</td>\n    </tr>\n    <tr>\n      <th>mse_std</th>\n      <td>0.3134</td>\n      <td>1.5318</td>\n      <td>0.0303</td>\n      <td>0.0474</td>\n    </tr>\n    <tr>\n      <th>mape_avg</th>\n      <td>1.5508</td>\n      <td>2.0318</td>\n      <td>1.1004</td>\n      <td>1.0131</td>\n    </tr>\n    <tr>\n      <th>mape_std</th>\n      <td>0.3926</td>\n      <td>0.8117</td>\n      <td>0.0712</td>\n      <td>0.1092</td>\n    </tr>\n  </tbody>\n</table>\n</div>"
     },
     "metadata": {},
     "execution_count": 6
    }
   ],
   "source": [
    "avg_x_spline = xlstm_ceemdan_spline.mean(axis=0).to_frame()\n",
    "avg_x_spline.columns = ['x+spline']\n",
    "avg_x = xlstm_ceemdan.mean(axis=0).to_frame()\n",
    "avg_x.columns = ['x']\n",
    "avg_spline = lstm_ceemdan_spline.mean(axis=0).to_frame()\n",
    "avg_spline.columns = ['spline']\n",
    "avg_vanilla = lstm_ceemdan.mean(axis=0).to_frame()\n",
    "avg_vanilla.columns = ['vanilla']\n",
    "\n",
    "print('neural/spline threshold at IMF3')\n",
    "abs_avg_comparisons = pd.concat([avg_vanilla,avg_x,avg_spline,avg_x_spline], axis=1)\n",
    "abs_avg_comparisons"
   ]
  },
  {
   "cell_type": "markdown",
   "metadata": {},
   "source": [
    "# Improvements by ticker"
   ]
  },
  {
   "cell_type": "code",
   "execution_count": 7,
   "metadata": {},
   "outputs": [
    {
     "output_type": "stream",
     "name": "stdout",
     "text": "Improvement: \n\nXLSTM-CEEMDAN-SPLINE Vs LSTM-CEEMDAN\n"
    },
    {
     "output_type": "execute_result",
     "data": {
      "text/plain": "       mse_avg mse_std mape_avg mape_std\nPETR4    56.74   90.24    26.38    31.87\nVALE3    36.88   79.88    31.52    51.63\nBOVA11   78.26   86.66    34.40    69.95\nITUB4    23.86   64.15    11.86    75.00\nBBDC4    42.71   73.98    43.29    74.31\nB3SA3    47.36   91.21    27.96    71.85\nBBAS3    72.76   95.22    46.66    91.71\nABEV3    49.52   88.10    28.41    45.02\nMGLU3    30.05   62.31    37.96    87.84\nVVAR3    86.36   97.35    40.36    74.36",
      "text/html": "<div>\n<style scoped>\n    .dataframe tbody tr th:only-of-type {\n        vertical-align: middle;\n    }\n\n    .dataframe tbody tr th {\n        vertical-align: top;\n    }\n\n    .dataframe thead tr th {\n        text-align: left;\n    }\n</style>\n<table border=\"1\" class=\"dataframe\">\n  <thead>\n    <tr>\n      <th></th>\n      <th>mse_avg</th>\n      <th>mse_std</th>\n      <th>mape_avg</th>\n      <th>mape_std</th>\n    </tr>\n  </thead>\n  <tbody>\n    <tr>\n      <th>PETR4</th>\n      <td>56.74</td>\n      <td>90.24</td>\n      <td>26.38</td>\n      <td>31.87</td>\n    </tr>\n    <tr>\n      <th>VALE3</th>\n      <td>36.88</td>\n      <td>79.88</td>\n      <td>31.52</td>\n      <td>51.63</td>\n    </tr>\n    <tr>\n      <th>BOVA11</th>\n      <td>78.26</td>\n      <td>86.66</td>\n      <td>34.40</td>\n      <td>69.95</td>\n    </tr>\n    <tr>\n      <th>ITUB4</th>\n      <td>23.86</td>\n      <td>64.15</td>\n      <td>11.86</td>\n      <td>75.00</td>\n    </tr>\n    <tr>\n      <th>BBDC4</th>\n      <td>42.71</td>\n      <td>73.98</td>\n      <td>43.29</td>\n      <td>74.31</td>\n    </tr>\n    <tr>\n      <th>B3SA3</th>\n      <td>47.36</td>\n      <td>91.21</td>\n      <td>27.96</td>\n      <td>71.85</td>\n    </tr>\n    <tr>\n      <th>BBAS3</th>\n      <td>72.76</td>\n      <td>95.22</td>\n      <td>46.66</td>\n      <td>91.71</td>\n    </tr>\n    <tr>\n      <th>ABEV3</th>\n      <td>49.52</td>\n      <td>88.10</td>\n      <td>28.41</td>\n      <td>45.02</td>\n    </tr>\n    <tr>\n      <th>MGLU3</th>\n      <td>30.05</td>\n      <td>62.31</td>\n      <td>37.96</td>\n      <td>87.84</td>\n    </tr>\n    <tr>\n      <th>VVAR3</th>\n      <td>86.36</td>\n      <td>97.35</td>\n      <td>40.36</td>\n      <td>74.36</td>\n    </tr>\n  </tbody>\n</table>\n</div>"
     },
     "metadata": {},
     "execution_count": 7
    }
   ],
   "source": [
    "# avg improvement\n",
    "\n",
    "def improvement(x, y):\n",
    "    return (1-y/x)*100\n",
    "\n",
    "vecImprovement = np.vectorize(improvement)\n",
    "\n",
    "improv_x_spline = pd.DataFrame(vecImprovement(lstm_ceemdan,xlstm_ceemdan_spline)).round(decimals=2)\n",
    "improv_x_spline.columns = [['mse_avg','mse_std','mape_avg','mape_std']]\n",
    "improv_x_spline = improv_x_spline.rename(index=index_name_mapping)\n",
    "\n",
    "improv_x_spline.to_csv(f'summary_results/improv_x_spline.csv', sep=',', encoding='utf-8')\n",
    "\n",
    "print('Improvement: \\n\\nXLSTM-CEEMDAN-SPLINE Vs LSTM-CEEMDAN')\n",
    "improv_x_spline"
   ]
  },
  {
   "cell_type": "code",
   "execution_count": 8,
   "metadata": {},
   "outputs": [
    {
     "output_type": "stream",
     "name": "stdout",
     "text": "Improvement: \n\nLSTM-CEEMDAN-SPLINE Vs LSTM-CEEMDAN\n"
    },
    {
     "output_type": "execute_result",
     "data": {
      "text/plain": "       mse_avg mse_std mape_avg mape_std\nPETR4    50.35   97.56    28.46    65.62\nVALE3    38.48   79.47    31.45    66.42\nBOVA11   78.47   93.92    25.11    77.46\nITUB4    42.05   86.79    11.27    83.62\nBBDC4    51.56   87.80    40.19    73.09\nB3SA3    52.11   97.36    18.60    88.15\nBBAS3    69.88   88.52    39.16    87.01\nABEV3    51.43   85.71    31.45    69.32\nMGLU3    38.73   81.93    23.87    83.87\nVVAR3    90.91   99.12    32.05    91.53",
      "text/html": "<div>\n<style scoped>\n    .dataframe tbody tr th:only-of-type {\n        vertical-align: middle;\n    }\n\n    .dataframe tbody tr th {\n        vertical-align: top;\n    }\n\n    .dataframe thead tr th {\n        text-align: left;\n    }\n</style>\n<table border=\"1\" class=\"dataframe\">\n  <thead>\n    <tr>\n      <th></th>\n      <th>mse_avg</th>\n      <th>mse_std</th>\n      <th>mape_avg</th>\n      <th>mape_std</th>\n    </tr>\n  </thead>\n  <tbody>\n    <tr>\n      <th>PETR4</th>\n      <td>50.35</td>\n      <td>97.56</td>\n      <td>28.46</td>\n      <td>65.62</td>\n    </tr>\n    <tr>\n      <th>VALE3</th>\n      <td>38.48</td>\n      <td>79.47</td>\n      <td>31.45</td>\n      <td>66.42</td>\n    </tr>\n    <tr>\n      <th>BOVA11</th>\n      <td>78.47</td>\n      <td>93.92</td>\n      <td>25.11</td>\n      <td>77.46</td>\n    </tr>\n    <tr>\n      <th>ITUB4</th>\n      <td>42.05</td>\n      <td>86.79</td>\n      <td>11.27</td>\n      <td>83.62</td>\n    </tr>\n    <tr>\n      <th>BBDC4</th>\n      <td>51.56</td>\n      <td>87.80</td>\n      <td>40.19</td>\n      <td>73.09</td>\n    </tr>\n    <tr>\n      <th>B3SA3</th>\n      <td>52.11</td>\n      <td>97.36</td>\n      <td>18.60</td>\n      <td>88.15</td>\n    </tr>\n    <tr>\n      <th>BBAS3</th>\n      <td>69.88</td>\n      <td>88.52</td>\n      <td>39.16</td>\n      <td>87.01</td>\n    </tr>\n    <tr>\n      <th>ABEV3</th>\n      <td>51.43</td>\n      <td>85.71</td>\n      <td>31.45</td>\n      <td>69.32</td>\n    </tr>\n    <tr>\n      <th>MGLU3</th>\n      <td>38.73</td>\n      <td>81.93</td>\n      <td>23.87</td>\n      <td>83.87</td>\n    </tr>\n    <tr>\n      <th>VVAR3</th>\n      <td>90.91</td>\n      <td>99.12</td>\n      <td>32.05</td>\n      <td>91.53</td>\n    </tr>\n  </tbody>\n</table>\n</div>"
     },
     "metadata": {},
     "execution_count": 8
    }
   ],
   "source": [
    "# avg improvement\n",
    "\n",
    "improv_spline = pd.DataFrame(vecImprovement(lstm_ceemdan,lstm_ceemdan_spline)).round(decimals=2)\n",
    "improv_spline.columns = [['mse_avg','mse_std','mape_avg','mape_std']]\n",
    "improv_spline = improv_spline.rename(index=index_name_mapping)\n",
    "\n",
    "improv_spline.to_csv(f'summary_results/improv_spline.csv', sep=',', encoding='utf-8')\n",
    "\n",
    "print('Improvement: \\n\\nLSTM-CEEMDAN-SPLINE Vs LSTM-CEEMDAN')\n",
    "improv_spline"
   ]
  },
  {
   "cell_type": "code",
   "execution_count": 9,
   "metadata": {},
   "outputs": [
    {
     "output_type": "stream",
     "name": "stdout",
     "text": "Improvement: \n\nXLSTM-CEEMDAN Vs LSTM-CEEMDAN\n"
    },
    {
     "output_type": "execute_result",
     "data": {
      "text/plain": "       mse_avg mse_std mape_avg mape_std\nPETR4    37.94   63.82    -2.62  -168.75\nVALE3  -158.87 -152.64    13.56    52.38\nBOVA11  -70.28 -317.70   -56.42  -194.84\nITUB4  -209.09 -330.19    -5.76    10.34\nBBDC4  -255.21 -547.97   -75.59  -316.51\nB3SA3  -823.94 -741.65   -51.84  -188.64\nBBAS3  -585.11 -694.02   -64.44  -152.11\nABEV3    -8.57  -30.95   -55.92  -136.25\nMGLU3  -118.73 -354.83   -45.55  -173.70\nVVAR3   -33.64  -55.75     5.79     8.25",
      "text/html": "<div>\n<style scoped>\n    .dataframe tbody tr th:only-of-type {\n        vertical-align: middle;\n    }\n\n    .dataframe tbody tr th {\n        vertical-align: top;\n    }\n\n    .dataframe thead tr th {\n        text-align: left;\n    }\n</style>\n<table border=\"1\" class=\"dataframe\">\n  <thead>\n    <tr>\n      <th></th>\n      <th>mse_avg</th>\n      <th>mse_std</th>\n      <th>mape_avg</th>\n      <th>mape_std</th>\n    </tr>\n  </thead>\n  <tbody>\n    <tr>\n      <th>PETR4</th>\n      <td>37.94</td>\n      <td>63.82</td>\n      <td>-2.62</td>\n      <td>-168.75</td>\n    </tr>\n    <tr>\n      <th>VALE3</th>\n      <td>-158.87</td>\n      <td>-152.64</td>\n      <td>13.56</td>\n      <td>52.38</td>\n    </tr>\n    <tr>\n      <th>BOVA11</th>\n      <td>-70.28</td>\n      <td>-317.70</td>\n      <td>-56.42</td>\n      <td>-194.84</td>\n    </tr>\n    <tr>\n      <th>ITUB4</th>\n      <td>-209.09</td>\n      <td>-330.19</td>\n      <td>-5.76</td>\n      <td>10.34</td>\n    </tr>\n    <tr>\n      <th>BBDC4</th>\n      <td>-255.21</td>\n      <td>-547.97</td>\n      <td>-75.59</td>\n      <td>-316.51</td>\n    </tr>\n    <tr>\n      <th>B3SA3</th>\n      <td>-823.94</td>\n      <td>-741.65</td>\n      <td>-51.84</td>\n      <td>-188.64</td>\n    </tr>\n    <tr>\n      <th>BBAS3</th>\n      <td>-585.11</td>\n      <td>-694.02</td>\n      <td>-64.44</td>\n      <td>-152.11</td>\n    </tr>\n    <tr>\n      <th>ABEV3</th>\n      <td>-8.57</td>\n      <td>-30.95</td>\n      <td>-55.92</td>\n      <td>-136.25</td>\n    </tr>\n    <tr>\n      <th>MGLU3</th>\n      <td>-118.73</td>\n      <td>-354.83</td>\n      <td>-45.55</td>\n      <td>-173.70</td>\n    </tr>\n    <tr>\n      <th>VVAR3</th>\n      <td>-33.64</td>\n      <td>-55.75</td>\n      <td>5.79</td>\n      <td>8.25</td>\n    </tr>\n  </tbody>\n</table>\n</div>"
     },
     "metadata": {},
     "execution_count": 9
    }
   ],
   "source": [
    "# avg improvement\n",
    "\n",
    "improv_x = pd.DataFrame(vecImprovement(lstm_ceemdan,xlstm_ceemdan)).round(decimals=2)\n",
    "improv_x.columns = [['mse_avg','mse_std','mape_avg','mape_std']]\n",
    "improv_x = improv_x.rename(index=index_name_mapping)\n",
    "\n",
    "improv_x.to_csv(f'summary_results/improv_x.csv', sep=',', encoding='utf-8')\n",
    "\n",
    "print('Improvement: \\n\\nXLSTM-CEEMDAN Vs LSTM-CEEMDAN')\n",
    "improv_x"
   ]
  },
  {
   "cell_type": "code",
   "execution_count": 10,
   "metadata": {},
   "outputs": [
    {
     "output_type": "stream",
     "name": "stdout",
     "text": "IMPROVEMENTS (%) relative to LSTM-CEEMDAN\n"
    },
    {
     "output_type": "execute_result",
     "data": {
      "text/plain": "          spline       x  x_spline\nmse_avg    56.40 -222.55     52.45\nmse_std    89.82 -316.19     82.91\nmape_avg   28.16  -33.88     32.88\nmape_std   78.61 -125.98     67.35",
      "text/html": "<div>\n<style scoped>\n    .dataframe tbody tr th:only-of-type {\n        vertical-align: middle;\n    }\n\n    .dataframe tbody tr th {\n        vertical-align: top;\n    }\n\n    .dataframe thead th {\n        text-align: right;\n    }\n</style>\n<table border=\"1\" class=\"dataframe\">\n  <thead>\n    <tr style=\"text-align: right;\">\n      <th></th>\n      <th>spline</th>\n      <th>x</th>\n      <th>x_spline</th>\n    </tr>\n  </thead>\n  <tbody>\n    <tr>\n      <th>mse_avg</th>\n      <td>56.40</td>\n      <td>-222.55</td>\n      <td>52.45</td>\n    </tr>\n    <tr>\n      <th>mse_std</th>\n      <td>89.82</td>\n      <td>-316.19</td>\n      <td>82.91</td>\n    </tr>\n    <tr>\n      <th>mape_avg</th>\n      <td>28.16</td>\n      <td>-33.88</td>\n      <td>32.88</td>\n    </tr>\n    <tr>\n      <th>mape_std</th>\n      <td>78.61</td>\n      <td>-125.98</td>\n      <td>67.35</td>\n    </tr>\n  </tbody>\n</table>\n</div>"
     },
     "metadata": {},
     "execution_count": 10
    }
   ],
   "source": [
    "avg_improv_summary = pd.concat([improv_spline.mean().T, improv_x.mean().T, improv_x_spline.mean().T], axis=0)\n",
    "avg_improv_summary.columns = [['mse_avg','mse_std','mape_avg','mape_std']]\n",
    "\n",
    "avg_improv_summary = {}\n",
    "avg_improv_summary['spline'] = {\n",
    "    'mse_avg': improv_spline.mean()[0],\n",
    "    'mse_std': improv_spline.mean()[1],\n",
    "    'mape_avg': improv_spline.mean()[2],\n",
    "    'mape_std': improv_spline.mean()[3]\n",
    "} \n",
    "\n",
    "avg_improv_summary['x'] = {\n",
    "    'mse_avg': improv_x.mean().to_numpy()[0],\n",
    "    'mse_std': improv_x.mean().to_numpy()[1],\n",
    "    'mape_avg': improv_x.mean().to_numpy()[2],\n",
    "    'mape_std': improv_x.mean().to_numpy()[3]\n",
    "} \n",
    "\n",
    "avg_improv_summary['x_spline'] = {\n",
    "    'mse_avg': improv_x_spline.mean().to_numpy()[0],\n",
    "    'mse_std': improv_x_spline.mean().to_numpy()[1],\n",
    "    'mape_avg': improv_x_spline.mean().to_numpy()[2],\n",
    "    'mape_std': improv_x_spline.mean().to_numpy()[3]\n",
    "} \n",
    "print(f'IMPROVEMENTS (%) relative to LSTM-CEEMDAN')\n",
    "avg_improv_summary = pd.DataFrame(avg_improv_summary)\n",
    "avg_improv_summary = avg_improv_summary.round(decimals=2)\n",
    "avg_improv_summary.to_csv(f'summary_results/overall_improvements.csv', sep=',', encoding='utf-8')\n",
    "avg_improv_summary"
   ]
  }
 ],
 "metadata": {
  "language_info": {
   "codemirror_mode": {
    "name": "ipython",
    "version": 3
   },
   "file_extension": ".py",
   "mimetype": "text/x-python",
   "name": "python",
   "nbconvert_exporter": "python",
   "pygments_lexer": "ipython3",
   "version": "3.7.4-final"
  },
  "orig_nbformat": 2,
  "kernelspec": {
   "name": "python37464bit1abd2d5f941841b49c9f1b2b4252e81e",
   "display_name": "Python 3.7.4 64-bit"
  }
 },
 "nbformat": 4,
 "nbformat_minor": 2
}