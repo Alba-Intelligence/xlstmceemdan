{
 "cells": [
  {
   "cell_type": "code",
   "execution_count": 23,
   "metadata": {},
   "outputs": [],
   "source": [
    "import pandas as pd\n",
    "import numpy as np\n",
    "import glob\n",
    "\n",
    "path = \"exp_records/*.csv\"\n",
    "tickers = [\"PETR4\", \"VALE3\", \"BOVA11\", \"ITUB4\", \"BBDC4\", \"B3SA3\", \"BBAS3\", \"ABEV3\", \"MGLU3\", \"VVAR3\"]\n",
    "index_name_mapping = {\n",
    "    0: \"PETR4\",\n",
    "    1: \"VALE3\",\n",
    "    2: \"BOVA11\",\n",
    "    3: \"ITUB4\",\n",
    "    4: \"BBDC4\",\n",
    "    5: \"B3SA3\",\n",
    "    6: \"BBAS3\",\n",
    "    7: \"ABEV3\",\n",
    "    8: \"MGLU3\",\n",
    "    9: \"VVAR3\"\n",
    "}\n",
    "\n",
    "lstm_ceemdan_exp_dfs = []\n",
    "lstm_ceemdan_spline_exp_dfs = []\n",
    "xlstm_ceemdan_exp_dfs = []\n",
    "xlstm_ceemdan_spline_exp_dfs = []  \n",
    "\n",
    "for exp_name in glob.glob(path):\n",
    "    df = pd.read_csv(exp_name)\n",
    "    if \"lstm_ceemdan\" in exp_name:\n",
    "        lstm_ceemdan_exp_dfs += [df]\n",
    "    if \"lstm_ceemdan_spline\" in exp_name:\n",
    "        lstm_ceemdan_spline_exp_dfs += [df]\n",
    "    if \"xlstm_ceemdan_full\" in exp_name:\n",
    "        xlstm_ceemdan_exp_dfs += [df]\n",
    "    if \"xlstm_ceemdan_full_spline\" in exp_name:\n",
    "        xlstm_ceemdan_spline_exp_dfs += [df]\n",
    "        \n",
    "lstm_ceemdan_exp_dfs_concat = pd.concat(lstm_ceemdan_exp_dfs)\n",
    "lstm_ceemdan_spline_exp_dfs_concat = pd.concat(lstm_ceemdan_spline_exp_dfs)\n",
    "xlstm_ceemdan_exp_dfs_concat = pd.concat(xlstm_ceemdan_exp_dfs)\n",
    "xlstm_ceemdan_spline_exp_dfs_concat = pd.concat(xlstm_ceemdan_spline_exp_dfs)"
   ]
  },
  {
   "cell_type": "code",
   "execution_count": 35,
   "metadata": {},
   "outputs": [
    {
     "output_type": "stream",
     "name": "stdout",
     "text": "LSTM CEEMDAN\n"
    },
    {
     "output_type": "execute_result",
     "data": {
      "text/plain": "        mse_avg  mse_std  mape_avg  mape_std\nPETR4     0.217    0.157     1.263     0.550\nVALE3     1.010    1.392     1.146     0.167\nBOVA11    0.785    0.899     0.820     0.270\nITUB4     0.211    0.341     1.149     0.209\nBBDC4     0.304    0.424     1.188     0.393\nB3SA3     1.351    2.365     1.585     0.587\nBBAS3     2.021    2.850     2.185     1.290\nABEV3     0.086    0.028     0.952     0.160\nMGLU3     1.672    1.391     2.215     0.621\nVVAR3     0.022    0.015     2.272     0.256",
      "text/html": "<div>\n<style scoped>\n    .dataframe tbody tr th:only-of-type {\n        vertical-align: middle;\n    }\n\n    .dataframe tbody tr th {\n        vertical-align: top;\n    }\n\n    .dataframe thead th {\n        text-align: right;\n    }\n</style>\n<table border=\"1\" class=\"dataframe\">\n  <thead>\n    <tr style=\"text-align: right;\">\n      <th></th>\n      <th>mse_avg</th>\n      <th>mse_std</th>\n      <th>mape_avg</th>\n      <th>mape_std</th>\n    </tr>\n  </thead>\n  <tbody>\n    <tr>\n      <th>PETR4</th>\n      <td>0.217</td>\n      <td>0.157</td>\n      <td>1.263</td>\n      <td>0.550</td>\n    </tr>\n    <tr>\n      <th>VALE3</th>\n      <td>1.010</td>\n      <td>1.392</td>\n      <td>1.146</td>\n      <td>0.167</td>\n    </tr>\n    <tr>\n      <th>BOVA11</th>\n      <td>0.785</td>\n      <td>0.899</td>\n      <td>0.820</td>\n      <td>0.270</td>\n    </tr>\n    <tr>\n      <th>ITUB4</th>\n      <td>0.211</td>\n      <td>0.341</td>\n      <td>1.149</td>\n      <td>0.209</td>\n    </tr>\n    <tr>\n      <th>BBDC4</th>\n      <td>0.304</td>\n      <td>0.424</td>\n      <td>1.188</td>\n      <td>0.393</td>\n    </tr>\n    <tr>\n      <th>B3SA3</th>\n      <td>1.351</td>\n      <td>2.365</td>\n      <td>1.585</td>\n      <td>0.587</td>\n    </tr>\n    <tr>\n      <th>BBAS3</th>\n      <td>2.021</td>\n      <td>2.850</td>\n      <td>2.185</td>\n      <td>1.290</td>\n    </tr>\n    <tr>\n      <th>ABEV3</th>\n      <td>0.086</td>\n      <td>0.028</td>\n      <td>0.952</td>\n      <td>0.160</td>\n    </tr>\n    <tr>\n      <th>MGLU3</th>\n      <td>1.672</td>\n      <td>1.391</td>\n      <td>2.215</td>\n      <td>0.621</td>\n    </tr>\n    <tr>\n      <th>VVAR3</th>\n      <td>0.022</td>\n      <td>0.015</td>\n      <td>2.272</td>\n      <td>0.256</td>\n    </tr>\n  </tbody>\n</table>\n</div>"
     },
     "metadata": {},
     "execution_count": 35
    }
   ],
   "source": [
    "lstm_ceemdan_std = lstm_ceemdan_exp_dfs_concat.groupby(lstm_ceemdan_exp_dfs_concat.index).std()\n",
    "lstm_ceemdan_std.columns = ['mse_std', 'mape_std']\n",
    "lstm_ceemdan_avg = lstm_ceemdan_exp_dfs_concat.groupby(lstm_ceemdan_exp_dfs_concat.index).mean()\n",
    "lstm_ceemdan_avg.columns = ['mse_avg', 'mape_avg']\n",
    "\n",
    "lstm_ceemdan = pd.concat([lstm_ceemdan_avg,lstm_ceemdan_std], axis=1)\n",
    "lstm_ceemdan = lstm_ceemdan.rename(index=index_name_mapping)\n",
    "lstm_ceemdan = lstm_ceemdan[['mse_avg','mse_std','mape_avg','mape_std']]\n",
    "lstm_ceemdan = lstm_ceemdan.round(decimals=3)\n",
    "print('LSTM CEEMDAN')\n",
    "lstm_ceemdan"
   ]
  },
  {
   "cell_type": "code",
   "execution_count": 36,
   "metadata": {},
   "outputs": [
    {
     "output_type": "stream",
     "name": "stdout",
     "text": "LSTM CEEMDAN SPLINE\n"
    },
    {
     "output_type": "execute_result",
     "data": {
      "text/plain": "        mse_avg  mse_std  mape_avg  mape_std\nPETR4     0.151    0.009     1.033     0.033\nVALE3     0.217    0.052     1.054     0.062\nBOVA11    0.352    0.071     0.695     0.042\nITUB4     0.108    0.004     1.100     0.042\nBBDC4     0.173    0.049     0.960     0.084\nB3SA3     0.307    0.009     1.302     0.007\nBBAS3     0.212    0.014     1.228     0.016\nABEV3     0.070    0.004     0.943     0.037\nMGLU3     0.956    0.085     1.910     0.017\nVVAR3     0.021    0.004     2.151     0.127",
      "text/html": "<div>\n<style scoped>\n    .dataframe tbody tr th:only-of-type {\n        vertical-align: middle;\n    }\n\n    .dataframe tbody tr th {\n        vertical-align: top;\n    }\n\n    .dataframe thead th {\n        text-align: right;\n    }\n</style>\n<table border=\"1\" class=\"dataframe\">\n  <thead>\n    <tr style=\"text-align: right;\">\n      <th></th>\n      <th>mse_avg</th>\n      <th>mse_std</th>\n      <th>mape_avg</th>\n      <th>mape_std</th>\n    </tr>\n  </thead>\n  <tbody>\n    <tr>\n      <th>PETR4</th>\n      <td>0.151</td>\n      <td>0.009</td>\n      <td>1.033</td>\n      <td>0.033</td>\n    </tr>\n    <tr>\n      <th>VALE3</th>\n      <td>0.217</td>\n      <td>0.052</td>\n      <td>1.054</td>\n      <td>0.062</td>\n    </tr>\n    <tr>\n      <th>BOVA11</th>\n      <td>0.352</td>\n      <td>0.071</td>\n      <td>0.695</td>\n      <td>0.042</td>\n    </tr>\n    <tr>\n      <th>ITUB4</th>\n      <td>0.108</td>\n      <td>0.004</td>\n      <td>1.100</td>\n      <td>0.042</td>\n    </tr>\n    <tr>\n      <th>BBDC4</th>\n      <td>0.173</td>\n      <td>0.049</td>\n      <td>0.960</td>\n      <td>0.084</td>\n    </tr>\n    <tr>\n      <th>B3SA3</th>\n      <td>0.307</td>\n      <td>0.009</td>\n      <td>1.302</td>\n      <td>0.007</td>\n    </tr>\n    <tr>\n      <th>BBAS3</th>\n      <td>0.212</td>\n      <td>0.014</td>\n      <td>1.228</td>\n      <td>0.016</td>\n    </tr>\n    <tr>\n      <th>ABEV3</th>\n      <td>0.070</td>\n      <td>0.004</td>\n      <td>0.943</td>\n      <td>0.037</td>\n    </tr>\n    <tr>\n      <th>MGLU3</th>\n      <td>0.956</td>\n      <td>0.085</td>\n      <td>1.910</td>\n      <td>0.017</td>\n    </tr>\n    <tr>\n      <th>VVAR3</th>\n      <td>0.021</td>\n      <td>0.004</td>\n      <td>2.151</td>\n      <td>0.127</td>\n    </tr>\n  </tbody>\n</table>\n</div>"
     },
     "metadata": {},
     "execution_count": 36
    }
   ],
   "source": [
    "lstm_ceemdan_spline_std = lstm_ceemdan_spline_exp_dfs_concat.groupby(lstm_ceemdan_spline_exp_dfs_concat.index).std()\n",
    "lstm_ceemdan_spline_std.columns = ['mse_std', 'mape_std']\n",
    "lstm_ceemdan_spline_avg = lstm_ceemdan_spline_exp_dfs_concat.groupby(lstm_ceemdan_spline_exp_dfs_concat.index).mean()\n",
    "lstm_ceemdan_spline_avg.columns = ['mse_avg', 'mape_avg']\n",
    "\n",
    "lstm_ceemdan_spline = pd.concat([lstm_ceemdan_spline_avg,lstm_ceemdan_spline_std], axis=1)\n",
    "lstm_ceemdan_spline = lstm_ceemdan_spline.rename(index=index_name_mapping)\n",
    "lstm_ceemdan_spline = lstm_ceemdan_spline[['mse_avg','mse_std','mape_avg','mape_std']]\n",
    "lstm_ceemdan_spline = lstm_ceemdan_spline.round(decimals=3)\n",
    "print('LSTM CEEMDAN SPLINE')\n",
    "lstm_ceemdan_spline"
   ]
  },
  {
   "cell_type": "code",
   "execution_count": 37,
   "metadata": {},
   "outputs": [
    {
     "output_type": "stream",
     "name": "stdout",
     "text": "XLSTM CEEMDAN\n"
    },
    {
     "output_type": "execute_result",
     "data": {
      "text/plain": "        mse_avg  mse_std  mape_avg  mape_std\nPETR4     0.231    0.211     1.407     0.775\nVALE3     1.585    1.816     1.191     0.221\nBOVA11    0.733    0.800     0.883     0.330\nITUB4     0.338    0.465     1.229     0.280\nBBDC4     0.441    0.589     1.269     0.519\nB3SA3     2.206    3.232     1.746     0.781\nBBAS3     3.372    3.537     2.433     1.411\nABEV3     0.093    0.027     0.988     0.215\nMGLU3     1.513    1.433     2.388     0.799\nVVAR3     0.018    0.007     2.351     0.271",
      "text/html": "<div>\n<style scoped>\n    .dataframe tbody tr th:only-of-type {\n        vertical-align: middle;\n    }\n\n    .dataframe tbody tr th {\n        vertical-align: top;\n    }\n\n    .dataframe thead th {\n        text-align: right;\n    }\n</style>\n<table border=\"1\" class=\"dataframe\">\n  <thead>\n    <tr style=\"text-align: right;\">\n      <th></th>\n      <th>mse_avg</th>\n      <th>mse_std</th>\n      <th>mape_avg</th>\n      <th>mape_std</th>\n    </tr>\n  </thead>\n  <tbody>\n    <tr>\n      <th>PETR4</th>\n      <td>0.231</td>\n      <td>0.211</td>\n      <td>1.407</td>\n      <td>0.775</td>\n    </tr>\n    <tr>\n      <th>VALE3</th>\n      <td>1.585</td>\n      <td>1.816</td>\n      <td>1.191</td>\n      <td>0.221</td>\n    </tr>\n    <tr>\n      <th>BOVA11</th>\n      <td>0.733</td>\n      <td>0.800</td>\n      <td>0.883</td>\n      <td>0.330</td>\n    </tr>\n    <tr>\n      <th>ITUB4</th>\n      <td>0.338</td>\n      <td>0.465</td>\n      <td>1.229</td>\n      <td>0.280</td>\n    </tr>\n    <tr>\n      <th>BBDC4</th>\n      <td>0.441</td>\n      <td>0.589</td>\n      <td>1.269</td>\n      <td>0.519</td>\n    </tr>\n    <tr>\n      <th>B3SA3</th>\n      <td>2.206</td>\n      <td>3.232</td>\n      <td>1.746</td>\n      <td>0.781</td>\n    </tr>\n    <tr>\n      <th>BBAS3</th>\n      <td>3.372</td>\n      <td>3.537</td>\n      <td>2.433</td>\n      <td>1.411</td>\n    </tr>\n    <tr>\n      <th>ABEV3</th>\n      <td>0.093</td>\n      <td>0.027</td>\n      <td>0.988</td>\n      <td>0.215</td>\n    </tr>\n    <tr>\n      <th>MGLU3</th>\n      <td>1.513</td>\n      <td>1.433</td>\n      <td>2.388</td>\n      <td>0.799</td>\n    </tr>\n    <tr>\n      <th>VVAR3</th>\n      <td>0.018</td>\n      <td>0.007</td>\n      <td>2.351</td>\n      <td>0.271</td>\n    </tr>\n  </tbody>\n</table>\n</div>"
     },
     "metadata": {},
     "execution_count": 37
    }
   ],
   "source": [
    "xlstm_ceemdan_std = xlstm_ceemdan_exp_dfs_concat.groupby(xlstm_ceemdan_exp_dfs_concat.index).std()\n",
    "xlstm_ceemdan_std.columns = ['mse_std', 'mape_std']\n",
    "xlstm_ceemdan_avg = xlstm_ceemdan_exp_dfs_concat.groupby(xlstm_ceemdan_exp_dfs_concat.index).mean()\n",
    "xlstm_ceemdan_avg.columns = ['mse_avg', 'mape_avg']\n",
    "\n",
    "xlstm_ceemdan = pd.concat([xlstm_ceemdan_avg,xlstm_ceemdan_std], axis=1)\n",
    "xlstm_ceemdan = xlstm_ceemdan.rename(index=index_name_mapping)\n",
    "xlstm_ceemdan = xlstm_ceemdan[['mse_avg','mse_std','mape_avg','mape_std']]\n",
    "xlstm_ceemdan = xlstm_ceemdan.round(decimals=3)\n",
    "print('XLSTM CEEMDAN')\n",
    "xlstm_ceemdan"
   ]
  },
  {
   "cell_type": "code",
   "execution_count": 39,
   "metadata": {},
   "outputs": [
    {
     "output_type": "stream",
     "name": "stdout",
     "text": "XLSTM CEEMDAN SPLINE\n"
    },
    {
     "output_type": "execute_result",
     "data": {
      "text/plain": "        mse_avg  mse_std  mape_avg  mape_std\nPETR4     0.108    0.003     0.946     0.022\nVALE3     0.212    0.038     0.998     0.010\nBOVA11    0.317    0.095     0.631     0.059\nITUB4     0.097    0.009     1.025     0.083\nBBDC4     0.097    0.005     0.809     0.029\nB3SA3     0.275    0.020     1.138     0.107\nBBAS3     0.193    0.050     1.146     0.028\nABEV3     0.069    0.006     0.815     0.042\nMGLU3     1.114    0.049     1.670     0.035\nVVAR3     0.016    0.002     2.156     0.191",
      "text/html": "<div>\n<style scoped>\n    .dataframe tbody tr th:only-of-type {\n        vertical-align: middle;\n    }\n\n    .dataframe tbody tr th {\n        vertical-align: top;\n    }\n\n    .dataframe thead th {\n        text-align: right;\n    }\n</style>\n<table border=\"1\" class=\"dataframe\">\n  <thead>\n    <tr style=\"text-align: right;\">\n      <th></th>\n      <th>mse_avg</th>\n      <th>mse_std</th>\n      <th>mape_avg</th>\n      <th>mape_std</th>\n    </tr>\n  </thead>\n  <tbody>\n    <tr>\n      <th>PETR4</th>\n      <td>0.108</td>\n      <td>0.003</td>\n      <td>0.946</td>\n      <td>0.022</td>\n    </tr>\n    <tr>\n      <th>VALE3</th>\n      <td>0.212</td>\n      <td>0.038</td>\n      <td>0.998</td>\n      <td>0.010</td>\n    </tr>\n    <tr>\n      <th>BOVA11</th>\n      <td>0.317</td>\n      <td>0.095</td>\n      <td>0.631</td>\n      <td>0.059</td>\n    </tr>\n    <tr>\n      <th>ITUB4</th>\n      <td>0.097</td>\n      <td>0.009</td>\n      <td>1.025</td>\n      <td>0.083</td>\n    </tr>\n    <tr>\n      <th>BBDC4</th>\n      <td>0.097</td>\n      <td>0.005</td>\n      <td>0.809</td>\n      <td>0.029</td>\n    </tr>\n    <tr>\n      <th>B3SA3</th>\n      <td>0.275</td>\n      <td>0.020</td>\n      <td>1.138</td>\n      <td>0.107</td>\n    </tr>\n    <tr>\n      <th>BBAS3</th>\n      <td>0.193</td>\n      <td>0.050</td>\n      <td>1.146</td>\n      <td>0.028</td>\n    </tr>\n    <tr>\n      <th>ABEV3</th>\n      <td>0.069</td>\n      <td>0.006</td>\n      <td>0.815</td>\n      <td>0.042</td>\n    </tr>\n    <tr>\n      <th>MGLU3</th>\n      <td>1.114</td>\n      <td>0.049</td>\n      <td>1.670</td>\n      <td>0.035</td>\n    </tr>\n    <tr>\n      <th>VVAR3</th>\n      <td>0.016</td>\n      <td>0.002</td>\n      <td>2.156</td>\n      <td>0.191</td>\n    </tr>\n  </tbody>\n</table>\n</div>"
     },
     "metadata": {},
     "execution_count": 39
    }
   ],
   "source": [
    "xlstm_ceemdan_spline_std = xlstm_ceemdan_spline_exp_dfs_concat.groupby(xlstm_ceemdan_spline_exp_dfs_concat.index).std()\n",
    "xlstm_ceemdan_spline_std.columns = ['mse_std', 'mape_std']\n",
    "xlstm_ceemdan_spline_avg = xlstm_ceemdan_spline_exp_dfs_concat.groupby(xlstm_ceemdan_spline_exp_dfs_concat.index).mean()\n",
    "xlstm_ceemdan_spline_avg.columns = ['mse_avg', 'mape_avg']\n",
    "\n",
    "xlstm_ceemdan_spline = pd.concat([xlstm_ceemdan_spline_avg,xlstm_ceemdan_spline_std], axis=1)\n",
    "xlstm_ceemdan_spline = xlstm_ceemdan_spline.rename(index=index_name_mapping)\n",
    "xlstm_ceemdan_spline = xlstm_ceemdan_spline[['mse_avg','mse_std','mape_avg','mape_std']]\n",
    "xlstm_ceemdan_spline = xlstm_ceemdan_spline.round(decimals=3)\n",
    "print('XLSTM CEEMDAN SPLINE')\n",
    "xlstm_ceemdan_spline"
   ]
  }
 ],
 "metadata": {
  "language_info": {
   "codemirror_mode": {
    "name": "ipython",
    "version": 3
   },
   "file_extension": ".py",
   "mimetype": "text/x-python",
   "name": "python",
   "nbconvert_exporter": "python",
   "pygments_lexer": "ipython3",
   "version": "3.7.4-final"
  },
  "orig_nbformat": 2,
  "kernelspec": {
   "name": "python37464bit1abd2d5f941841b49c9f1b2b4252e81e",
   "display_name": "Python 3.7.4 64-bit"
  }
 },
 "nbformat": 4,
 "nbformat_minor": 2
}