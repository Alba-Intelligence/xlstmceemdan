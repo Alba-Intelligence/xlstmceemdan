{
 "cells": [
  {
   "cell_type": "markdown",
   "metadata": {},
   "source": [
    "# Data processing for XLSTM-CEEMDAN model\n",
    "\n",
    "## Python requirements\n",
    "\n",
    "```\n",
    "!pip install plotly\n",
    "!pip install cufflinks\n",
    "!pip install chart_studio\n",
    "!pip install ipywidgets\n",
    "!pip install yfinance\n",
    "!pip install EMD-signal\n",
    "!pip install sklearn\n",
    "!pip install keras\n",
    "!pip install tensorflow\n",
    "```\n",
    "\n",
    "## Model\n",
    "\n",
    "The **XLSTM-CEEMDAN** works with daily data from equities: open, high, low, close, volume. Hereinafter we are calling these \"features\".\n",
    "\n",
    "### Data processing steps:\n",
    "\n",
    "1. Data gathering\n",
    "\n",
    "We use yfinance package to get the daily ticker history. We obtain a dataframe with one time series for each of the features, for each of the tickers we are working with.\n",
    "\n",
    "Here we are considering the top 10 most liquid tickers in Brazilian B3 exchange in period of **2019-01-01 until 2020-05-01**:\n",
    "\n",
    "**PETR4, VALE3, BOVA11, ITUB4, BBDC4, B3SA3, BBAS3, ABEV3, MGLU3, VVAR3**\n",
    "\n",
    "2. Decomposition\n",
    "\n",
    "We decompose the data with the complete ensemble empirical mode decomposition with adative noise (CEEMDAN) algorithm, using the [PyEMD public package from Dawid Laszuk](github.com/laszukdawid/PyEMD).\n",
    "\n",
    "As a result, we obtain a set of instrinsic mode functions (IMFs) time series for each of the features, for each of the tickers. The number of IMFs resulting from a decomposition may vary, and depends upon CEEMDAN hyperparameters such as scale of added noise, specific series characteristics, and mainly **series length**.\n",
    "\n",
    "3. Data transformation\n",
    "\n",
    "For each of the IMFs series obtained, we tranform the data according to the following equation in order to work with data values between 0 and 1.\n",
    "\n",
    "$$x' = \\frac{x-x_{min}}{x_{max}-x_{min}}$$\n",
    "\n",
    "Where x is any element in the series to be transformed, x' is the equivalent transformed element. The equation also takes into account the maximum and minimum values of the series.\n",
    "\n",
    "4. Windowing\n",
    "\n",
    "Besides the mathematical transformation, each series undergo a vectorial transformation in order to split the data into windows.\n",
    "\n",
    "The process is examplified:\n",
    "\n",
    "```\n",
    "original single dimensional series = [1,2,3,4,5,6,7,8]\n",
    "Splitting into windows of length 4.\n",
    "Windowed data = [[1,2,3,4],[2,3,4,5],[3,4,5,6],[4,5,6,7],[5,6,7,8]]\n",
    "```\n",
    "This way the resulting series will have $n-w+1$ elements, where $n$ is the length of the orginal series and $w$ is the window length.\n",
    "\n",
    "### Processed data availability\n",
    "\n",
    "After the processing method, the final data is available in a dataframe format."
   ]
  },
  {
   "cell_type": "code",
   "execution_count": 52,
   "metadata": {},
   "outputs": [
    {
     "output_type": "display_data",
     "data": {
      "text/html": "        <script type=\"text/javascript\">\n        window.PlotlyConfig = {MathJaxConfig: 'local'};\n        if (window.MathJax) {MathJax.Hub.Config({SVG: {font: \"STIX-Web\"}});}\n        if (typeof require !== 'undefined') {\n        require.undef(\"plotly\");\n        requirejs.config({\n            paths: {\n                'plotly': ['https://cdn.plot.ly/plotly-latest.min']\n            }\n        });\n        require(['plotly'], function(Plotly) {\n            window._Plotly = Plotly;\n        });\n        }\n        </script>\n        "
     },
     "metadata": {}
    },
    {
     "output_type": "display_data",
     "data": {
      "text/html": "        <script type=\"text/javascript\">\n        window.PlotlyConfig = {MathJaxConfig: 'local'};\n        if (window.MathJax) {MathJax.Hub.Config({SVG: {font: \"STIX-Web\"}});}\n        if (typeof require !== 'undefined') {\n        require.undef(\"plotly\");\n        requirejs.config({\n            paths: {\n                'plotly': ['https://cdn.plot.ly/plotly-latest.min']\n            }\n        });\n        require(['plotly'], function(Plotly) {\n            window._Plotly = Plotly;\n        });\n        }\n        </script>\n        "
     },
     "metadata": {}
    }
   ],
   "source": [
    "from datetime import timedelta, datetime\n",
    "import pandas as pd\n",
    "import numpy as np\n",
    "\n",
    "import cufflinks as cf\n",
    "import chart_studio.plotly as plotly\n",
    "import plotly.offline\n",
    "cf.go_offline()\n",
    "cf.set_config_file(offline=True, world_readable=False)\n",
    "\n",
    "from sklearn.preprocessing import MinMaxScaler\n",
    "from keras.preprocessing.sequence import TimeseriesGenerator\n",
    "from keras.models import Sequential\n",
    "from keras.layers import Dense\n",
    "from keras.layers import LSTM\n",
    "import yfinance as yf\n",
    "from PyEMD import CEEMDAN"
   ]
  },
  {
   "cell_type": "code",
   "execution_count": 25,
   "metadata": {},
   "outputs": [
    {
     "output_type": "stream",
     "name": "stdout",
     "text": "[*********************100%***********************]  1 of 1 completed\n[*********************100%***********************]  1 of 1 completed\n[*********************100%***********************]  1 of 1 completed\n[*********************100%***********************]  1 of 1 completed\n[*********************100%***********************]  1 of 1 completed\n[*********************100%***********************]  1 of 1 completed\n[*********************100%***********************]  1 of 1 completed\n[*********************100%***********************]  1 of 1 completed\n[*********************100%***********************]  1 of 1 completed\n[*********************100%***********************]  1 of 1 completed\n"
    }
   ],
   "source": [
    "tickers = [\"PETR4\", \"VALE3\", \"BOVA11\", \"ITUB4\", \"BBDC4\", \"B3SA3\", \"BBAS3\", \"ABEV3\", \"MGLU3\", \"VVAR3\"]\n",
    "\n",
    "tickers = [f\"{ticker}.SA\" for ticker in tickers]\n",
    "\n",
    "start_datetime = datetime(year=2019, month=5, day=1)\n",
    "end_datetime = datetime(year=2020, month=5, day=1)\n",
    "\n",
    "history_data = {ticker.split('.')[0]:yf.download(ticker, start=start_datetime, end=end_datetime).drop(['Close'], axis=1).dropna() for ticker in tickers}"
   ]
  },
  {
   "cell_type": "code",
   "execution_count": 26,
   "metadata": {},
   "outputs": [
    {
     "output_type": "stream",
     "name": "stdout",
     "text": "[PETR4]\n--[Open]\n----IMF0\n----IMF1\n----IMF2\n----IMF3\n----IMF4\n--[High]\n----IMF0\n----IMF1\n----IMF2\n----IMF3\n----IMF4\n----IMF5\n--[Low]\n----IMF0\n----IMF1\n----IMF2\n----IMF3\n----IMF4\n----IMF5\n--[Adj Close]\n----IMF0\n----IMF1\n----IMF2\n----IMF3\n----IMF4\n----IMF5\n--[Volume]\n----IMF0\n----IMF1\n----IMF2\n----IMF3\n----IMF4\n----IMF5\n----IMF6\n[VALE3]\n--[Open]\n----IMF0\n----IMF1\n----IMF2\n----IMF3\n----IMF4\n----IMF5\n--[High]\n----IMF0\n----IMF1\n----IMF2\n----IMF3\n----IMF4\n----IMF5\n--[Low]\n----IMF0\n----IMF1\n----IMF2\n----IMF3\n----IMF4\n----IMF5\n--[Adj Close]\n----IMF0\n----IMF1\n----IMF2\n----IMF3\n----IMF4\n----IMF5\n--[Volume]\n----IMF0\n----IMF1\n----IMF2\n----IMF3\n----IMF4\n----IMF5\n[BOVA11]\n--[Open]\n----IMF0\n----IMF1\n----IMF2\n----IMF3\n----IMF4\n--[High]\n----IMF0\n----IMF1\n----IMF2\n----IMF3\n----IMF4\n--[Low]\n----IMF0\n----IMF1\n----IMF2\n----IMF3\n----IMF4\n--[Adj Close]\n----IMF0\n----IMF1\n----IMF2\n----IMF3\n----IMF4\n--[Volume]\n----IMF0\n----IMF1\n----IMF2\n----IMF3\n----IMF4\n----IMF5\n----IMF6\n[ITUB4]\n--[Open]\n----IMF0\n----IMF1\n----IMF2\n----IMF3\n----IMF4\n--[High]\n----IMF0\n----IMF1\n----IMF2\n----IMF3\n----IMF4\n--[Low]\n----IMF0\n----IMF1\n----IMF2\n----IMF3\n----IMF4\n--[Adj Close]\n----IMF0\n----IMF1\n----IMF2\n----IMF3\n----IMF4\n----IMF5\n--[Volume]\n----IMF0\n----IMF1\n----IMF2\n----IMF3\n----IMF4\n----IMF5\n[BBDC4]\n--[Open]\n----IMF0\n----IMF1\n----IMF2\n----IMF3\n----IMF4\n----IMF5\n--[High]\n----IMF0\n----IMF1\n----IMF2\n----IMF3\n----IMF4\n----IMF5\n--[Low]\n----IMF0\n----IMF1\n----IMF2\n----IMF3\n----IMF4\n----IMF5\n--[Adj Close]\n----IMF0\n----IMF1\n----IMF2\n----IMF3\n----IMF4\n--[Volume]\n----IMF0\n----IMF1\n----IMF2\n----IMF3\n----IMF4\n----IMF5\n----IMF6\n[B3SA3]\n--[Open]\n----IMF0\n----IMF1\n----IMF2\n----IMF3\n----IMF4\n--[High]\n----IMF0\n----IMF1\n----IMF2\n----IMF3\n----IMF4\n----IMF5\n--[Low]\n----IMF0\n----IMF1\n----IMF2\n----IMF3\n----IMF4\n----IMF5\n--[Adj Close]\n----IMF0\n----IMF1\n----IMF2\n----IMF3\n----IMF4\n--[Volume]\n----IMF0\n----IMF1\n----IMF2\n----IMF3\n----IMF4\n----IMF5\n[BBAS3]\n--[Open]\n----IMF0\n----IMF1\n----IMF2\n----IMF3\n----IMF4\n----IMF5\n--[High]\n----IMF0\n----IMF1\n----IMF2\n----IMF3\n----IMF4\n--[Low]\n----IMF0\n----IMF1\n----IMF2\n----IMF3\n----IMF4\n--[Adj Close]\n----IMF0\n----IMF1\n----IMF2\n----IMF3\n----IMF4\n----IMF5\n--[Volume]\n----IMF0\n----IMF1\n----IMF2\n----IMF3\n----IMF4\n----IMF5\n[ABEV3]\n--[Open]\n----IMF0\n----IMF1\n----IMF2\n----IMF3\n----IMF4\n----IMF5\n--[High]\n----IMF0\n----IMF1\n----IMF2\n----IMF3\n----IMF4\n----IMF5\n--[Low]\n----IMF0\n----IMF1\n----IMF2\n----IMF3\n----IMF4\n----IMF5\n--[Adj Close]\n----IMF0\n----IMF1\n----IMF2\n----IMF3\n----IMF4\n----IMF5\n--[Volume]\n----IMF0\n----IMF1\n----IMF2\n----IMF3\n----IMF4\n----IMF5\n----IMF6\n[MGLU3]\n--[Open]\n----IMF0\n----IMF1\n----IMF2\n----IMF3\n----IMF4\n--[High]\n----IMF0\n----IMF1\n----IMF2\n----IMF3\n----IMF4\n--[Low]\n----IMF0\n----IMF1\n----IMF2\n----IMF3\n----IMF4\n--[Adj Close]\n----IMF0\n----IMF1\n----IMF2\n----IMF3\n----IMF4\n----IMF5\n--[Volume]\n----IMF0\n----IMF1\n----IMF2\n----IMF3\n----IMF4\n----IMF5\n[VVAR3]\n--[Open]\n----IMF0\n----IMF1\n----IMF2\n----IMF3\n----IMF4\n----IMF5\n--[High]\n----IMF0\n----IMF1\n----IMF2\n----IMF3\n----IMF4\n----IMF5\n--[Low]\n----IMF0\n----IMF1\n----IMF2\n----IMF3\n----IMF4\n--[Adj Close]\n----IMF0\n----IMF1\n----IMF2\n----IMF3\n----IMF4\n----IMF5\n--[Volume]\n----IMF0\n----IMF1\n----IMF2\n----IMF3\n----IMF4\n----IMF5\n"
    }
   ],
   "source": [
    "ceemdan = CEEMDAN()\n",
    "scaler = MinMaxScaler()\n",
    "decomposed_data = {}\n",
    "decomposed_ticker_features_series = {}\n",
    "for ticker in history_data:\n",
    "    print(f'[{ticker}]')\n",
    "    ticker_dataframe = history_data[ticker]\n",
    "    decomposed_ticker_features_series[ticker] = {}\n",
    "    for column in ticker_dataframe.columns:\n",
    "        decomposed_ticker_features_series[ticker][column] = {}\n",
    "        series = ticker_dataframe[column].values.reshape(-1,1)\n",
    "        scaler.fit(series)\n",
    "        ticker_feature_time_series = np.frombuffer(scaler.transform(series))\n",
    "        ticker_feature_time_series_imfs = ceemdan(ticker_feature_time_series, max_imf=10)\n",
    "        for i, imf_series in enumerate(ticker_feature_time_series_imfs):\n",
    "            if i < len(ticker_feature_time_series_imfs):\n",
    "                decomposed_ticker_features_series[ticker][column][f'IMF{i+1}'] = imf_series\n",
    "            else:\n",
    "                decomposed_ticker_features_series[ticker][column][f'Rsd'] = imf_series"
   ]
  },
  {
   "cell_type": "code",
   "execution_count": 37,
   "metadata": {
    "tags": [
     "outputPrepend"
    ]
   },
   "outputs": [],
   "source": []
  },
  {
   "cell_type": "code",
   "execution_count": 45,
   "metadata": {},
   "outputs": [
    {
     "output_type": "stream",
     "name": "stdout",
     "text": "Samples: 246\n[[0.00176907 0.02474279]] => [0.00194419]\n[[0.02474279 0.00194419]] => [-0.025798]\n[[ 0.00194419 -0.025798  ]] => [-0.02697583]\n[[-0.025798   -0.02697583]] => [0.01180694]\n[[-0.02697583  0.01180694]] => [0.02738]\n[[0.01180694 0.02738   ]] => [-0.02203177]\n[[ 0.02738    -0.02203177]] => [0.01448237]\n[[-0.02203177  0.01448237]] => [-0.00125919]\n[[ 0.01448237 -0.00125919]] => [0.00866302]\n[[-0.00125919  0.00866302]] => [-0.01263383]\n[[ 0.00866302 -0.01263383]] => [-0.02524081]\n[[-0.01263383 -0.02524081]] => [-0.00255738]\n[[-0.02524081 -0.00255738]] => [0.02988484]\n[[-0.00255738  0.02988484]] => [-0.0256155]\n[[ 0.02988484 -0.0256155 ]] => [-0.01651905]\n[[-0.0256155  -0.01651905]] => [-0.00862152]\n[[-0.01651905 -0.00862152]] => [0.00468734]\n[[-0.00862152  0.00468734]] => [0.00393823]\n[[0.00468734 0.00393823]] => [-0.00201417]\n[[ 0.00393823 -0.00201417]] => [0.0021347]\n[[-0.00201417  0.0021347 ]] => [0.00260384]\n[[0.0021347  0.00260384]] => [-0.00638923]\n[[ 0.00260384 -0.00638923]] => [0.00938391]\n[[-0.00638923  0.00938391]] => [-0.01208709]\n[[ 0.00938391 -0.01208709]] => [0.01432035]\n[[-0.01208709  0.01432035]] => [-0.01653173]\n[[ 0.01432035 -0.01653173]] => [-0.00299318]\n[[-0.01653173 -0.00299318]] => [0.02115767]\n[[-0.00299318  0.02115767]] => [0.01420081]\n[[0.02115767 0.01420081]] => [-0.00170023]\n[[ 0.01420081 -0.00170023]] => [-0.02437962]\n[[-0.00170023 -0.02437962]] => [-0.01065937]\n[[-0.02437962 -0.01065937]] => [0.00081535]\n[[-0.01065937  0.00081535]] => [0.02121372]\n[[0.00081535 0.02121372]] => [0.0164102]\n[[0.02121372 0.0164102 ]] => [-0.00679137]\n[[ 0.0164102  -0.00679137]] => [-0.01477861]\n[[-0.00679137 -0.01477861]] => [-0.01724651]\n[[-0.01477861 -0.01724651]] => [0.01264465]\n[[-0.01724651  0.01264465]] => [0.01954422]\n[[0.01264465 0.01954422]] => [-0.00971806]\n[[ 0.01954422 -0.00971806]] => [-0.0240181]\n[[-0.00971806 -0.0240181 ]] => [0.01260364]\n[[-0.0240181   0.01260364]] => [0.0116613]\n[[0.01260364 0.0116613 ]] => [0.01412545]\n[[0.0116613  0.01412545]] => [0.03158438]\n[[0.01412545 0.03158438]] => [-0.00208937]\n[[ 0.03158438 -0.00208937]] => [-0.00329084]\n[[-0.00208937 -0.00329084]] => [-0.02734629]\n[[-0.00329084 -0.02734629]] => [-0.01965069]\n[[-0.02734629 -0.01965069]] => [-0.01565813]\n[[-0.01965069 -0.01565813]] => [-0.0040612]\n[[-0.01565813 -0.0040612 ]] => [0.00791461]\n[[-0.0040612   0.00791461]] => [0.01501232]\n[[0.00791461 0.01501232]] => [0.0059328]\n[[0.01501232 0.0059328 ]] => [-0.01613534]\n[[ 0.0059328  -0.01613534]] => [0.01820473]\n[[-0.01613534  0.01820473]] => [-0.01813975]\n[[ 0.01820473 -0.01813975]] => [-0.02167138]\n[[-0.01813975 -0.02167138]] => [-0.00358921]\n[[-0.02167138 -0.00358921]] => [0.00803217]\n[[-0.00358921  0.00803217]] => [0.01705816]\n[[0.00803217 0.01705816]] => [0.00470049]\n[[0.01705816 0.00470049]] => [-0.01171314]\n[[ 0.00470049 -0.01171314]] => [0.01159556]\n[[-0.01171314  0.01159556]] => [-0.01348206]\n[[ 0.01159556 -0.01348206]] => [0.0151128]\n[[-0.01348206  0.0151128 ]] => [0.00017761]\n[[0.0151128  0.00017761]] => [-0.01127338]\n[[ 0.00017761 -0.01127338]] => [-0.01041573]\n[[-0.01127338 -0.01041573]] => [0.00695755]\n[[-0.01041573  0.00695755]] => [-0.00768233]\n[[ 0.00695755 -0.00768233]] => [0.01233483]\n[[-0.00768233  0.01233483]] => [0.01021688]\n[[0.01233483 0.01021688]] => [-0.02330183]\n[[ 0.01021688 -0.02330183]] => [-0.01187996]\n[[-0.02330183 -0.01187996]] => [0.02402202]\n[[-0.01187996  0.02402202]] => [-0.01345615]\n[[ 0.02402202 -0.01345615]] => [-0.01522431]\n[[-0.01345615 -0.01522431]] => [0.01213152]\n[[-0.01522431  0.01213152]] => [-0.01348039]\n[[ 0.01213152 -0.01348039]] => [-0.00241959]\n[[-0.01348039 -0.00241959]] => [0.01875558]\n[[-0.00241959  0.01875558]] => [0.0343063]\n[[0.01875558 0.0343063 ]] => [-0.0154908]\n[[ 0.0343063 -0.0154908]] => [-0.04168567]\n[[-0.0154908  -0.04168567]] => [-0.04530718]\n[[-0.04168567 -0.04530718]] => [-0.01391155]\n[[-0.04530718 -0.01391155]] => [0.01736956]\n[[-0.01391155  0.01736956]] => [0.03330147]\n[[0.01736956 0.03330147]] => [0.01205665]\n[[0.03330147 0.01205665]] => [-0.00781712]\n[[ 0.01205665 -0.00781712]] => [0.0075319]\n[[-0.00781712  0.0075319 ]] => [-0.00788066]\n[[ 0.0075319  -0.00788066]] => [-0.02220038]\n[[-0.00788066 -0.02220038]] => [0.00454238]\n[[-0.02220038  0.00454238]] => [0.02490119]\n[[0.00454238 0.02490119]] => [-0.02318149]\n[[ 0.02490119 -0.02318149]] => [0.00051159]\n[[-0.02318149  0.00051159]] => [0.01654142]\n[[0.00051159 0.01654142]] => [-0.01404831]\n[[ 0.01654142 -0.01404831]] => [-0.00191953]\n[[-0.01404831 -0.00191953]] => [-0.00243435]\n[[-0.00191953 -0.00243435]] => [0.00466231]\n[[-0.00243435  0.00466231]] => [0.01961027]\n[[0.00466231 0.01961027]] => [-0.00648623]\n[[ 0.01961027 -0.00648623]] => [-0.02607482]\n[[-0.00648623 -0.02607482]] => [0.02822191]\n[[-0.02607482  0.02822191]] => [0.02124623]\n[[0.02822191 0.02124623]] => [-0.00771083]\n[[ 0.02124623 -0.00771083]] => [-0.02858217]\n[[-0.00771083 -0.02858217]] => [-0.0063047]\n[[-0.02858217 -0.0063047 ]] => [0.0090505]\n[[-0.0063047  0.0090505]] => [0.02133783]\n[[0.0090505  0.02133783]] => [0.00962017]\n[[0.02133783 0.00962017]] => [-0.01465729]\n[[ 0.00962017 -0.01465729]] => [0.00399073]\n[[-0.01465729  0.00399073]] => [0.01004212]\n[[0.00399073 0.01004212]] => [0.00080123]\n[[0.01004212 0.00080123]] => [-0.0097562]\n[[ 0.00080123 -0.0097562 ]] => [0.00561219]\n[[-0.0097562   0.00561219]] => [0.01107072]\n[[0.00561219 0.01107072]] => [-0.01032119]\n[[ 0.01107072 -0.01032119]] => [-0.00396931]\n[[-0.01032119 -0.00396931]] => [0.00589233]\n[[-0.00396931  0.00589233]] => [-0.00416479]\n[[ 0.00589233 -0.00416479]] => [0.00371895]\n[[-0.00416479  0.00371895]] => [-0.00408794]\n[[ 0.00371895 -0.00408794]] => [-0.0040137]\n[[-0.00408794 -0.0040137 ]] => [-0.00766436]\n[[-0.0040137  -0.00766436]] => [0.00263531]\n[[-0.00766436  0.00263531]] => [0.00995921]\n[[0.00263531 0.00995921]] => [-0.00241278]\n[[ 0.00995921 -0.00241278]] => [-0.00974345]\n[[-0.00241278 -0.00974345]] => [0.01003727]\n[[-0.00974345  0.01003727]] => [-0.00427196]\n[[ 0.01003727 -0.00427196]] => [-0.01306805]\n[[-0.00427196 -0.01306805]] => [0.01513839]\n[[-0.01306805  0.01513839]] => [-0.00261033]\n[[ 0.01513839 -0.00261033]] => [-0.01781173]\n[[-0.00261033 -0.01781173]] => [-0.00477198]\n[[-0.01781173 -0.00477198]] => [0.01672829]\n[[-0.00477198  0.01672829]] => [0.00011454]\n[[0.01672829 0.00011454]] => [-0.0125722]\n[[ 0.00011454 -0.0125722 ]] => [-0.00045491]\n[[-0.0125722  -0.00045491]] => [0.00823067]\n[[-0.00045491  0.00823067]] => [-0.00018253]\n[[ 0.00823067 -0.00018253]] => [-0.00268579]\n[[-0.00018253 -0.00268579]] => [-0.00793376]\n[[-0.00268579 -0.00793376]] => [0.00851822]\n[[-0.00793376  0.00851822]] => [-0.00786378]\n[[ 0.00851822 -0.00786378]] => [-0.00640571]\n[[-0.00786378 -0.00640571]] => [0.00806308]\n[[-0.00640571  0.00806308]] => [-0.0064012]\n[[ 0.00806308 -0.0064012 ]] => [-0.01059669]\n[[-0.0064012  -0.01059669]] => [0.01349335]\n[[-0.01059669  0.01349335]] => [0.00748911]\n[[0.01349335 0.00748911]] => [-0.01813413]\n[[ 0.00748911 -0.01813413]] => [-0.01123499]\n[[-0.01813413 -0.01123499]] => [0.01911284]\n[[-0.01123499  0.01911284]] => [0.01413322]\n[[0.01911284 0.01413322]] => [-0.01537567]\n[[ 0.01413322 -0.01537567]] => [0.00300939]\n[[-0.01537567  0.00300939]] => [0.00895618]\n[[0.00300939 0.00895618]] => [-0.00615633]\n[[ 0.00895618 -0.00615633]] => [0.0043687]\n[[-0.00615633  0.0043687 ]] => [-0.00367312]\n[[ 0.0043687  -0.00367312]] => [0.00390657]\n[[-0.00367312  0.00390657]] => [-0.00496366]\n[[ 0.00390657 -0.00496366]] => [0.00208812]\n[[-0.00496366  0.00208812]] => [0.00820255]\n[[0.00208812 0.00820255]] => [0.00347212]\n[[0.00820255 0.00347212]] => [-0.01028094]\n[[ 0.00347212 -0.01028094]] => [0.01083405]\n[[-0.01028094  0.01083405]] => [0.00111551]\n[[0.01083405 0.00111551]] => [-0.01350441]\n[[ 0.00111551 -0.01350441]] => [0.00565225]\n[[-0.01350441  0.00565225]] => [0.02040713]\n[[0.00565225 0.02040713]] => [0.01375436]\n[[0.02040713 0.01375436]] => [-0.00948808]\n[[ 0.01375436 -0.00948808]] => [-0.0315088]\n[[-0.00948808 -0.0315088 ]] => [0.03255932]\n[[-0.0315088   0.03255932]] => [-0.03168565]\n[[ 0.03255932 -0.03168565]] => [-0.0056682]\n[[-0.03168565 -0.0056682 ]] => [0.02443415]\n[[-0.0056682   0.02443415]] => [-0.01800051]\n[[ 0.02443415 -0.01800051]] => [0.01103044]\n[[-0.01800051  0.01103044]] => [-0.00680935]\n[[ 0.01103044 -0.00680935]] => [0.00830109]\n[[-0.00680935  0.00830109]] => [-0.01492368]\n[[ 0.00830109 -0.01492368]] => [0.02291734]\n[[-0.01492368  0.02291734]] => [-0.0296053]\n[[ 0.02291734 -0.0296053 ]] => [-0.02432032]\n[[-0.0296053  -0.02432032]] => [-0.01792582]\n[[-0.02432032 -0.01792582]] => [0.0405507]\n[[-0.01792582  0.0405507 ]] => [0.01730015]\n[[0.0405507  0.01730015]] => [-0.00403165]\n[[ 0.01730015 -0.00403165]] => [-0.02928467]\n[[-0.00403165 -0.02928467]] => [-0.05256793]\n[[-0.02928467 -0.05256793]] => [-0.00713439]\n[[-0.05256793 -0.00713439]] => [0.04729798]\n[[-0.00713439  0.04729798]] => [0.05066169]\n[[0.04729798 0.05066169]] => [-0.04459519]\n[[ 0.05066169 -0.04459519]] => [0.01164514]\n[[-0.04459519  0.01164514]] => [0.03404764]\n[[0.01164514 0.03404764]] => [0.03031566]\n[[0.03404764 0.03031566]] => [0.02930091]\n[[0.03031566 0.02930091]] => [0.0092211]\n[[0.02930091 0.0092211 ]] => [-0.06233649]\n[[ 0.0092211  -0.06233649]] => [-0.09573318]\n[[-0.06233649 -0.09573318]] => [0.04797668]\n[[-0.09573318  0.04797668]] => [0.12439761]\n[[0.04797668 0.12439761]] => [-0.11945329]\n[[ 0.12439761 -0.11945329]] => [0.09727298]\n[[-0.11945329  0.09727298]] => [-0.06688641]\n[[ 0.09727298 -0.06688641]] => [0.03825895]\n[[-0.06688641  0.03825895]] => [0.03836923]\n[[0.03825895 0.03836923]] => [-0.03302239]\n[[ 0.03836923 -0.03302239]] => [0.03859287]\n[[-0.03302239  0.03859287]] => [-0.01149637]\n[[ 0.03859287 -0.01149637]] => [-0.04409442]\n[[-0.01149637 -0.04409442]] => [-0.02587077]\n[[-0.04409442 -0.02587077]] => [0.03336592]\n[[-0.02587077  0.03336592]] => [-0.02178268]\n[[ 0.03336592 -0.02178268]] => [-0.02140947]\n[[-0.02178268 -0.02140947]] => [0.01560185]\n[[-0.02140947  0.01560185]] => [-0.01478445]\n[[ 0.01560185 -0.01478445]] => [0.01572343]\n[[-0.01478445  0.01572343]] => [0.00706608]\n[[0.01572343 0.00706608]] => [-0.01672379]\n[[ 0.00706608 -0.01672379]] => [0.01499256]\n[[-0.01672379  0.01499256]] => [-0.01292046]\n[[ 0.01499256 -0.01292046]] => [0.0130229]\n[[-0.01292046  0.0130229 ]] => [-0.01558766]\n[[ 0.0130229  -0.01558766]] => [0.0176576]\n[[-0.01558766  0.0176576 ]] => [-0.01664393]\n[[ 0.0176576  -0.01664393]] => [0.01377944]\n[[-0.01664393  0.01377944]] => [-0.00165334]\n[[ 0.01377944 -0.00165334]] => [-0.01483647]\n[[-0.00165334 -0.01483647]] => [-0.00110634]\n[[-0.01483647 -0.00110634]] => [0.03349008]\n[[-0.00110634  0.03349008]] => [0.00235908]\n[[0.03349008 0.00235908]] => [-0.05888625]\n[[ 0.00235908 -0.05888625]] => [-0.01094154]\n[[-0.05888625 -0.01094154]] => [0.07040804]\n[[-0.01094154  0.07040804]] => [0.01585886]\n"
    }
   ],
   "source": [
    "# Windowing example\n",
    "series = pd.DataFrame.from_dict(decomposed_ticker_features_series['BBAS3']['Open'])['IMF0']\n",
    "window_size = 2\n",
    "generator = TimeseriesGenerator(series, series, length=window_size, batch_size=1)\n",
    "print(f'Samples: {len(generator)}')\n",
    "for i in range(len(generator)):\n",
    "\tx, y = generator[i]\n",
    "\tprint('%s => %s' % (x, y))"
   ]
  },
  {
   "cell_type": "code",
   "execution_count": 48,
   "metadata": {},
   "outputs": [],
   "source": [
    "# model\n",
    "model = Sequential()\n",
    "model.add(Dense(100, activation='relu', input_dim=n_input))\n",
    "model.add(Dense(1))\n",
    "model.compile(optimizer='adam', loss='mse')"
   ]
  },
  {
   "cell_type": "code",
   "execution_count": 49,
   "metadata": {},
   "outputs": [
    {
     "output_type": "execute_result",
     "data": {
      "text/plain": "<keras.callbacks.callbacks.History at 0x14ad28c10>"
     },
     "metadata": {},
     "execution_count": 49
    }
   ],
   "source": [
    "# fit model\n",
    "model.fit_generator(generator, steps_per_epoch=1, epochs=200, verbose=0)"
   ]
  },
  {
   "cell_type": "code",
   "execution_count": 51,
   "metadata": {},
   "outputs": [],
   "source": [
    "# make a one step prediction out of sample\n",
    "x_input = np.array([9, 10]).reshape((1, n_input))\n",
    "yhat = model.predict(x_input, verbose=0)"
   ]
  }
 ],
 "metadata": {
  "language_info": {
   "codemirror_mode": {
    "name": "ipython",
    "version": 3
   },
   "file_extension": ".py",
   "mimetype": "text/x-python",
   "name": "python",
   "nbconvert_exporter": "python",
   "pygments_lexer": "ipython3",
   "version": "3.7.4-final"
  },
  "orig_nbformat": 2,
  "kernelspec": {
   "name": "python37464bit1abd2d5f941841b49c9f1b2b4252e81e",
   "display_name": "Python 3.7.4 64-bit"
  }
 },
 "nbformat": 4,
 "nbformat_minor": 2
}