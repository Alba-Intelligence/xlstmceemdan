{
 "cells": [
  {
   "cell_type": "code",
   "execution_count": 1,
   "metadata": {},
   "outputs": [],
   "source": [
    "import pandas as pd\n",
    "import numpy as np\n",
    "import numbers\n",
    "import glob\n",
    "\n",
    "# path = \"exp_records_accuracy_per_imf/*.csv\"\n",
    "path = \"exp_records_accuracy_per_imf_3rd_batch/*.csv\"\n",
    "\n",
    "tickers = [\"PETR4\", \"VALE3\", \"BOVA11\", \"ITUB4\", \"BBDC4\", \"B3SA3\", \"BBAS3\", \"ABEV3\", \"MGLU3\", \"VVAR3\"]\n",
    "index_name_mapping = {\n",
    "    0: \"PETR4\",\n",
    "    1: \"VALE3\",\n",
    "    2: \"BOVA11\",\n",
    "    3: \"ITUB4\",\n",
    "    4: \"BBDC4\",\n",
    "    5: \"B3SA3\",\n",
    "    6: \"BBAS3\",\n",
    "    7: \"ABEV3\",\n",
    "    8: \"MGLU3\",\n",
    "    9: \"VVAR3\"\n",
    "}\n",
    "\n",
    "lstm_ceemdan_exp_dfs = []\n",
    "lstm_ceemdan_spline_exp_dfs = []\n",
    "xlstm_ceemdan_exp_dfs = []\n",
    "xlstm_ceemdan_spline_exp_dfs = []  \n",
    "\n",
    "for exp_name in glob.glob(path):\n",
    "    df = pd.read_csv(exp_name)\n",
    "    if \"lstm_ceemdan_per\" in exp_name:\n",
    "        lstm_ceemdan_exp_dfs += [df]\n",
    "    if \"lstm_ceemdan_spline_per\" in exp_name:\n",
    "        lstm_ceemdan_spline_exp_dfs += [df]\n",
    "    if \"xlstm_ceemdan_full_per\" in exp_name:\n",
    "        xlstm_ceemdan_exp_dfs += [df]\n",
    "    if \"xlstm_ceemdan_full_spline_per\" in exp_name:\n",
    "        xlstm_ceemdan_spline_exp_dfs += [df]\n",
    "        \n",
    "lstm_ceemdan_exp_dfs_concat = pd.concat(lstm_ceemdan_exp_dfs)\n",
    "lstm_ceemdan_spline_exp_dfs_concat = pd.concat(lstm_ceemdan_spline_exp_dfs)\n",
    "xlstm_ceemdan_exp_dfs_concat = pd.concat(xlstm_ceemdan_exp_dfs)\n",
    "xlstm_ceemdan_spline_exp_dfs_concat = pd.concat(xlstm_ceemdan_spline_exp_dfs)"
   ]
  },
  {
   "cell_type": "markdown",
   "metadata": {},
   "source": [
    "# Accuracies"
   ]
  },
  {
   "cell_type": "code",
   "execution_count": 2,
   "metadata": {},
   "outputs": [
    {
     "output_type": "stream",
     "name": "stdout",
     "text": "LSTM CEEMDAN\n"
    },
    {
     "output_type": "execute_result",
     "data": {
      "text/plain": "                  ABEV3     B3SA3     BBAS3     BBDC4    BOVA11     ITUB4  \\\nmetric                                                                      \nmse_test_IMF1  0.000754  0.000149  0.000288  0.000374  0.000417  0.000650   \nmse_test_IMF2  0.000137  0.000030  0.000051  0.000098  0.000084  0.000144   \nmse_test_IMF3  0.000021  0.000005  0.000011  0.000004  0.000008  0.000022   \nmse_test_IMF4  0.000763  0.000028  0.000213  0.000245  0.000175  0.000207   \nmse_test_IMF5  0.000107  0.000063  0.000251  0.000275  0.000070  0.000274   \nmse_test_IMF6  0.000039  0.000011  0.000001  0.000004       NaN  0.000015   \nmse_test_IMF7       NaN       NaN       NaN       NaN       NaN       NaN   \n\n                  MGLU3     PETR4     VALE3     VVAR3  \nmetric                                                 \nmse_test_IMF1  0.000076  0.000542  0.001418  0.000552  \nmse_test_IMF2  0.000021  0.000076  0.000332  0.000115  \nmse_test_IMF3  0.000005  0.000012  0.000035  0.000024  \nmse_test_IMF4  0.000016  0.000259  0.000234  0.000194  \nmse_test_IMF5  0.000046  0.000164  0.000345  0.000193  \nmse_test_IMF6  0.000019       NaN  0.000014  0.000199  \nmse_test_IMF7       NaN       NaN       NaN  0.000001  ",
      "text/html": "<div>\n<style scoped>\n    .dataframe tbody tr th:only-of-type {\n        vertical-align: middle;\n    }\n\n    .dataframe tbody tr th {\n        vertical-align: top;\n    }\n\n    .dataframe thead th {\n        text-align: right;\n    }\n</style>\n<table border=\"1\" class=\"dataframe\">\n  <thead>\n    <tr style=\"text-align: right;\">\n      <th></th>\n      <th>ABEV3</th>\n      <th>B3SA3</th>\n      <th>BBAS3</th>\n      <th>BBDC4</th>\n      <th>BOVA11</th>\n      <th>ITUB4</th>\n      <th>MGLU3</th>\n      <th>PETR4</th>\n      <th>VALE3</th>\n      <th>VVAR3</th>\n    </tr>\n    <tr>\n      <th>metric</th>\n      <th></th>\n      <th></th>\n      <th></th>\n      <th></th>\n      <th></th>\n      <th></th>\n      <th></th>\n      <th></th>\n      <th></th>\n      <th></th>\n    </tr>\n  </thead>\n  <tbody>\n    <tr>\n      <th>mse_test_IMF1</th>\n      <td>0.000754</td>\n      <td>0.000149</td>\n      <td>0.000288</td>\n      <td>0.000374</td>\n      <td>0.000417</td>\n      <td>0.000650</td>\n      <td>0.000076</td>\n      <td>0.000542</td>\n      <td>0.001418</td>\n      <td>0.000552</td>\n    </tr>\n    <tr>\n      <th>mse_test_IMF2</th>\n      <td>0.000137</td>\n      <td>0.000030</td>\n      <td>0.000051</td>\n      <td>0.000098</td>\n      <td>0.000084</td>\n      <td>0.000144</td>\n      <td>0.000021</td>\n      <td>0.000076</td>\n      <td>0.000332</td>\n      <td>0.000115</td>\n    </tr>\n    <tr>\n      <th>mse_test_IMF3</th>\n      <td>0.000021</td>\n      <td>0.000005</td>\n      <td>0.000011</td>\n      <td>0.000004</td>\n      <td>0.000008</td>\n      <td>0.000022</td>\n      <td>0.000005</td>\n      <td>0.000012</td>\n      <td>0.000035</td>\n      <td>0.000024</td>\n    </tr>\n    <tr>\n      <th>mse_test_IMF4</th>\n      <td>0.000763</td>\n      <td>0.000028</td>\n      <td>0.000213</td>\n      <td>0.000245</td>\n      <td>0.000175</td>\n      <td>0.000207</td>\n      <td>0.000016</td>\n      <td>0.000259</td>\n      <td>0.000234</td>\n      <td>0.000194</td>\n    </tr>\n    <tr>\n      <th>mse_test_IMF5</th>\n      <td>0.000107</td>\n      <td>0.000063</td>\n      <td>0.000251</td>\n      <td>0.000275</td>\n      <td>0.000070</td>\n      <td>0.000274</td>\n      <td>0.000046</td>\n      <td>0.000164</td>\n      <td>0.000345</td>\n      <td>0.000193</td>\n    </tr>\n    <tr>\n      <th>mse_test_IMF6</th>\n      <td>0.000039</td>\n      <td>0.000011</td>\n      <td>0.000001</td>\n      <td>0.000004</td>\n      <td>NaN</td>\n      <td>0.000015</td>\n      <td>0.000019</td>\n      <td>NaN</td>\n      <td>0.000014</td>\n      <td>0.000199</td>\n    </tr>\n    <tr>\n      <th>mse_test_IMF7</th>\n      <td>NaN</td>\n      <td>NaN</td>\n      <td>NaN</td>\n      <td>NaN</td>\n      <td>NaN</td>\n      <td>NaN</td>\n      <td>NaN</td>\n      <td>NaN</td>\n      <td>NaN</td>\n      <td>0.000001</td>\n    </tr>\n  </tbody>\n</table>\n</div>"
     },
     "metadata": {},
     "execution_count": 2
    }
   ],
   "source": [
    "print('LSTM CEEMDAN')\n",
    "\n",
    "df = lstm_ceemdan_exp_dfs_concat.copy()\n",
    "\n",
    "df = df.groupby(by=df.columns, axis=1).apply(lambda g: g.mean(axis=1) if isinstance(g.iloc[0,0], numbers.Number) else g.iloc[:,0]).rename(columns={'Unnamed: 0': 'metric'}).set_index('metric')\n",
    "df = df.T\n",
    "\n",
    "df = df.groupby(by=df.columns, axis=1).apply(lambda g: g.mean(axis=1) if isinstance(g.iloc[0,0], numbers.Number) else g.iloc[:,0])\n",
    "\n",
    "# let's discard mape here\n",
    "mse_cols = [ col for col in df.columns if 'mape' not in col ]\n",
    "df = df[mse_cols].T\n",
    "\n",
    "accuracy_per_imf_lstm_ceemdan = df\n",
    "accuracy_per_imf_lstm_ceemdan"
   ]
  },
  {
   "cell_type": "code",
   "execution_count": 3,
   "metadata": {},
   "outputs": [
    {
     "output_type": "stream",
     "name": "stdout",
     "text": "LSTM CEEMDAN SPLINE\n"
    },
    {
     "output_type": "execute_result",
     "data": {
      "text/plain": "                  ABEV3     B3SA3     BBAS3     BBDC4    BOVA11     ITUB4  \\\nmetric                                                                      \nmse_test_IMF1  0.000781  0.000152  0.000274  0.000358  0.000401  0.000655   \nmse_test_IMF2  0.000143  0.000032  0.000080  0.000088  0.000068  0.000146   \nmse_test_IMF3  0.000012  0.000004  0.000021  0.000004  0.000005  0.000014   \nmse_test_IMF4  0.000091  0.000006  0.000034  0.000031  0.000026  0.000045   \nmse_test_IMF5  0.000006  0.000007  0.000016  0.000018  0.000011  0.000026   \nmse_test_IMF6  0.000002  0.000007  0.000001  0.000001       NaN  0.000002   \nmse_test_IMF7       NaN       NaN       NaN       NaN       NaN       NaN   \n\n                  MGLU3     PETR4     VALE3         VVAR3  \nmetric                                                     \nmse_test_IMF1  0.000071  0.000510  0.001339  5.242756e-04  \nmse_test_IMF2  0.000016  0.000072  0.000278  1.048829e-04  \nmse_test_IMF3  0.000003  0.000014  0.000054  1.214680e-05  \nmse_test_IMF4  0.000003  0.000062  0.000077  4.106743e-05  \nmse_test_IMF5  0.000003  0.000018  0.000026  1.647451e-05  \nmse_test_IMF6  0.000004  0.000009  0.000002  9.993706e-06  \nmse_test_IMF7       NaN       NaN       NaN  4.710676e-07  ",
      "text/html": "<div>\n<style scoped>\n    .dataframe tbody tr th:only-of-type {\n        vertical-align: middle;\n    }\n\n    .dataframe tbody tr th {\n        vertical-align: top;\n    }\n\n    .dataframe thead th {\n        text-align: right;\n    }\n</style>\n<table border=\"1\" class=\"dataframe\">\n  <thead>\n    <tr style=\"text-align: right;\">\n      <th></th>\n      <th>ABEV3</th>\n      <th>B3SA3</th>\n      <th>BBAS3</th>\n      <th>BBDC4</th>\n      <th>BOVA11</th>\n      <th>ITUB4</th>\n      <th>MGLU3</th>\n      <th>PETR4</th>\n      <th>VALE3</th>\n      <th>VVAR3</th>\n    </tr>\n    <tr>\n      <th>metric</th>\n      <th></th>\n      <th></th>\n      <th></th>\n      <th></th>\n      <th></th>\n      <th></th>\n      <th></th>\n      <th></th>\n      <th></th>\n      <th></th>\n    </tr>\n  </thead>\n  <tbody>\n    <tr>\n      <th>mse_test_IMF1</th>\n      <td>0.000781</td>\n      <td>0.000152</td>\n      <td>0.000274</td>\n      <td>0.000358</td>\n      <td>0.000401</td>\n      <td>0.000655</td>\n      <td>0.000071</td>\n      <td>0.000510</td>\n      <td>0.001339</td>\n      <td>5.242756e-04</td>\n    </tr>\n    <tr>\n      <th>mse_test_IMF2</th>\n      <td>0.000143</td>\n      <td>0.000032</td>\n      <td>0.000080</td>\n      <td>0.000088</td>\n      <td>0.000068</td>\n      <td>0.000146</td>\n      <td>0.000016</td>\n      <td>0.000072</td>\n      <td>0.000278</td>\n      <td>1.048829e-04</td>\n    </tr>\n    <tr>\n      <th>mse_test_IMF3</th>\n      <td>0.000012</td>\n      <td>0.000004</td>\n      <td>0.000021</td>\n      <td>0.000004</td>\n      <td>0.000005</td>\n      <td>0.000014</td>\n      <td>0.000003</td>\n      <td>0.000014</td>\n      <td>0.000054</td>\n      <td>1.214680e-05</td>\n    </tr>\n    <tr>\n      <th>mse_test_IMF4</th>\n      <td>0.000091</td>\n      <td>0.000006</td>\n      <td>0.000034</td>\n      <td>0.000031</td>\n      <td>0.000026</td>\n      <td>0.000045</td>\n      <td>0.000003</td>\n      <td>0.000062</td>\n      <td>0.000077</td>\n      <td>4.106743e-05</td>\n    </tr>\n    <tr>\n      <th>mse_test_IMF5</th>\n      <td>0.000006</td>\n      <td>0.000007</td>\n      <td>0.000016</td>\n      <td>0.000018</td>\n      <td>0.000011</td>\n      <td>0.000026</td>\n      <td>0.000003</td>\n      <td>0.000018</td>\n      <td>0.000026</td>\n      <td>1.647451e-05</td>\n    </tr>\n    <tr>\n      <th>mse_test_IMF6</th>\n      <td>0.000002</td>\n      <td>0.000007</td>\n      <td>0.000001</td>\n      <td>0.000001</td>\n      <td>NaN</td>\n      <td>0.000002</td>\n      <td>0.000004</td>\n      <td>0.000009</td>\n      <td>0.000002</td>\n      <td>9.993706e-06</td>\n    </tr>\n    <tr>\n      <th>mse_test_IMF7</th>\n      <td>NaN</td>\n      <td>NaN</td>\n      <td>NaN</td>\n      <td>NaN</td>\n      <td>NaN</td>\n      <td>NaN</td>\n      <td>NaN</td>\n      <td>NaN</td>\n      <td>NaN</td>\n      <td>4.710676e-07</td>\n    </tr>\n  </tbody>\n</table>\n</div>"
     },
     "metadata": {},
     "execution_count": 3
    }
   ],
   "source": [
    "print('LSTM CEEMDAN SPLINE')\n",
    "\n",
    "df = lstm_ceemdan_spline_exp_dfs_concat.copy()\n",
    "\n",
    "df = df.groupby(by=df.columns, axis=1).apply(lambda g: g.mean(axis=1) if isinstance(g.iloc[0,0], numbers.Number) else g.iloc[:,0]).rename(columns={'Unnamed: 0': 'metric'}).set_index('metric')\n",
    "df = df.T\n",
    "\n",
    "df = df.groupby(by=df.columns, axis=1).apply(lambda g: g.mean(axis=1) if isinstance(g.iloc[0,0], numbers.Number) else g.iloc[:,0])\n",
    "\n",
    "# let's discard mape here\n",
    "mse_cols = [ col for col in df.columns if 'mape' not in col ]\n",
    "df = df[mse_cols].T\n",
    "\n",
    "accuracy_per_imf_lstm_ceemdan_spline = df\n",
    "accuracy_per_imf_lstm_ceemdan_spline"
   ]
  },
  {
   "cell_type": "code",
   "execution_count": 4,
   "metadata": {},
   "outputs": [
    {
     "output_type": "stream",
     "name": "stdout",
     "text": "XLSTM CEEMDAN\n"
    },
    {
     "output_type": "execute_result",
     "data": {
      "text/plain": "                  ABEV3     B3SA3     BBAS3     BBDC4    BOVA11     ITUB4  \\\nmetric                                                                      \nmse_test_IMF1  0.000714  0.000141  0.000256  0.000335  0.000355  0.000609   \nmse_test_IMF2  0.000107  0.000030  0.000058  0.000120  0.000066  0.000113   \nmse_test_IMF3  0.000057  0.000020  0.000026  0.000025  0.000038  0.000049   \nmse_test_IMF4  0.000359  0.000029  0.000119  0.000164  0.000100  0.000239   \nmse_test_IMF5  0.000030  0.000037  0.000054  0.000513  0.000205  0.000108   \nmse_test_IMF6  0.000007  0.000008  0.000079  0.000173       NaN  0.000051   \nmse_test_IMF7       NaN       NaN       NaN       NaN       NaN       NaN   \n\n                  MGLU3     PETR4     VALE3     VVAR3  \nmetric                                                 \nmse_test_IMF1  0.000066  0.000440  0.001235  0.000519  \nmse_test_IMF2  0.000027  0.000069  0.000291  0.000095  \nmse_test_IMF3  0.000023  0.000042  0.000129  0.000087  \nmse_test_IMF4  0.000020  0.000242  0.000137  0.000190  \nmse_test_IMF5  0.000257  0.000129  0.000056  0.000152  \nmse_test_IMF6  0.000041  0.000009  0.000195  0.000049  \nmse_test_IMF7       NaN       NaN       NaN  0.000021  ",
      "text/html": "<div>\n<style scoped>\n    .dataframe tbody tr th:only-of-type {\n        vertical-align: middle;\n    }\n\n    .dataframe tbody tr th {\n        vertical-align: top;\n    }\n\n    .dataframe thead th {\n        text-align: right;\n    }\n</style>\n<table border=\"1\" class=\"dataframe\">\n  <thead>\n    <tr style=\"text-align: right;\">\n      <th></th>\n      <th>ABEV3</th>\n      <th>B3SA3</th>\n      <th>BBAS3</th>\n      <th>BBDC4</th>\n      <th>BOVA11</th>\n      <th>ITUB4</th>\n      <th>MGLU3</th>\n      <th>PETR4</th>\n      <th>VALE3</th>\n      <th>VVAR3</th>\n    </tr>\n    <tr>\n      <th>metric</th>\n      <th></th>\n      <th></th>\n      <th></th>\n      <th></th>\n      <th></th>\n      <th></th>\n      <th></th>\n      <th></th>\n      <th></th>\n      <th></th>\n    </tr>\n  </thead>\n  <tbody>\n    <tr>\n      <th>mse_test_IMF1</th>\n      <td>0.000714</td>\n      <td>0.000141</td>\n      <td>0.000256</td>\n      <td>0.000335</td>\n      <td>0.000355</td>\n      <td>0.000609</td>\n      <td>0.000066</td>\n      <td>0.000440</td>\n      <td>0.001235</td>\n      <td>0.000519</td>\n    </tr>\n    <tr>\n      <th>mse_test_IMF2</th>\n      <td>0.000107</td>\n      <td>0.000030</td>\n      <td>0.000058</td>\n      <td>0.000120</td>\n      <td>0.000066</td>\n      <td>0.000113</td>\n      <td>0.000027</td>\n      <td>0.000069</td>\n      <td>0.000291</td>\n      <td>0.000095</td>\n    </tr>\n    <tr>\n      <th>mse_test_IMF3</th>\n      <td>0.000057</td>\n      <td>0.000020</td>\n      <td>0.000026</td>\n      <td>0.000025</td>\n      <td>0.000038</td>\n      <td>0.000049</td>\n      <td>0.000023</td>\n      <td>0.000042</td>\n      <td>0.000129</td>\n      <td>0.000087</td>\n    </tr>\n    <tr>\n      <th>mse_test_IMF4</th>\n      <td>0.000359</td>\n      <td>0.000029</td>\n      <td>0.000119</td>\n      <td>0.000164</td>\n      <td>0.000100</td>\n      <td>0.000239</td>\n      <td>0.000020</td>\n      <td>0.000242</td>\n      <td>0.000137</td>\n      <td>0.000190</td>\n    </tr>\n    <tr>\n      <th>mse_test_IMF5</th>\n      <td>0.000030</td>\n      <td>0.000037</td>\n      <td>0.000054</td>\n      <td>0.000513</td>\n      <td>0.000205</td>\n      <td>0.000108</td>\n      <td>0.000257</td>\n      <td>0.000129</td>\n      <td>0.000056</td>\n      <td>0.000152</td>\n    </tr>\n    <tr>\n      <th>mse_test_IMF6</th>\n      <td>0.000007</td>\n      <td>0.000008</td>\n      <td>0.000079</td>\n      <td>0.000173</td>\n      <td>NaN</td>\n      <td>0.000051</td>\n      <td>0.000041</td>\n      <td>0.000009</td>\n      <td>0.000195</td>\n      <td>0.000049</td>\n    </tr>\n    <tr>\n      <th>mse_test_IMF7</th>\n      <td>NaN</td>\n      <td>NaN</td>\n      <td>NaN</td>\n      <td>NaN</td>\n      <td>NaN</td>\n      <td>NaN</td>\n      <td>NaN</td>\n      <td>NaN</td>\n      <td>NaN</td>\n      <td>0.000021</td>\n    </tr>\n  </tbody>\n</table>\n</div>"
     },
     "metadata": {},
     "execution_count": 4
    }
   ],
   "source": [
    "print('XLSTM CEEMDAN')\n",
    "\n",
    "df = xlstm_ceemdan_exp_dfs_concat.copy()\n",
    "\n",
    "df = df.groupby(by=df.columns, axis=1).apply(lambda g: g.mean(axis=1) if isinstance(g.iloc[0,0], numbers.Number) else g.iloc[:,0]).rename(columns={'Unnamed: 0': 'metric'}).set_index('metric')\n",
    "df = df.T\n",
    "\n",
    "df = df.groupby(by=df.columns, axis=1).apply(lambda g: g.mean(axis=1) if isinstance(g.iloc[0,0], numbers.Number) else g.iloc[:,0])\n",
    "\n",
    "# let's discard mape here\n",
    "mse_cols = [ col for col in df.columns if 'mape' not in col ]\n",
    "df = df[mse_cols].T\n",
    "\n",
    "accuracy_per_imf_xlstm_ceemdan = df\n",
    "accuracy_per_imf_xlstm_ceemdan"
   ]
  },
  {
   "cell_type": "code",
   "execution_count": 5,
   "metadata": {},
   "outputs": [
    {
     "output_type": "stream",
     "name": "stdout",
     "text": "XLSTM CEEMDAN SPLINE\n"
    },
    {
     "output_type": "execute_result",
     "data": {
      "text/plain": "                      ABEV3         B3SA3         BBAS3         BBDC4  \\\nmetric                                                                  \nmse_test_IMF1  6.961891e-04  1.454107e-04  2.690938e-04  3.202962e-04   \nmse_test_IMF2  9.497910e-05  3.238948e-05  5.515620e-05  1.081746e-04   \nmse_test_IMF3  1.075651e-04  1.750750e-05  3.927673e-05  3.088114e-05   \nmse_test_IMF4  9.260699e-05  5.600786e-06  3.425208e-05  3.154536e-05   \nmse_test_IMF5  5.426235e-06  6.673480e-06  1.557353e-05  1.792910e-05   \nmse_test_IMF6  2.080143e-06  3.365371e-06  1.202868e-06  1.077404e-06   \nmse_test_IMF7  4.063312e-08  3.585700e-10  1.716688e-07  5.778896e-09   \nmse_test_IMF8           NaN           NaN           NaN  1.288321e-11   \n\n                     BOVA11         ITUB4         MGLU3         PETR4  \\\nmetric                                                                  \nmse_test_IMF1  3.419140e-04  6.356578e-04  6.906815e-05  4.726494e-04   \nmse_test_IMF2  1.078646e-04  1.320579e-04  2.679277e-05  5.679662e-05   \nmse_test_IMF3  2.604384e-05  5.642786e-05  1.462779e-05  4.671744e-05   \nmse_test_IMF4  2.552367e-05  4.705398e-05  2.514453e-06  6.209517e-05   \nmse_test_IMF5  1.090019e-05  2.287347e-05  2.876137e-06  1.829108e-05   \nmse_test_IMF6  1.536576e-07  2.398175e-06  4.002039e-06  1.692285e-06   \nmse_test_IMF7  3.014692e-08  5.935212e-10  7.551557e-09  6.303441e-07   \nmse_test_IMF8           NaN           NaN           NaN           NaN   \n\n                      VALE3         VVAR3  \nmetric                                     \nmse_test_IMF1  1.196227e-03  5.114361e-04  \nmse_test_IMF2  2.813076e-04  1.060334e-04  \nmse_test_IMF3  1.369760e-04  1.225330e-04  \nmse_test_IMF4  7.669280e-05  4.413034e-05  \nmse_test_IMF5  2.608061e-05  1.700376e-05  \nmse_test_IMF6  2.465314e-06  9.650480e-06  \nmse_test_IMF7  8.051158e-10  3.200100e-07  \nmse_test_IMF8  1.527104e-09           NaN  ",
      "text/html": "<div>\n<style scoped>\n    .dataframe tbody tr th:only-of-type {\n        vertical-align: middle;\n    }\n\n    .dataframe tbody tr th {\n        vertical-align: top;\n    }\n\n    .dataframe thead th {\n        text-align: right;\n    }\n</style>\n<table border=\"1\" class=\"dataframe\">\n  <thead>\n    <tr style=\"text-align: right;\">\n      <th></th>\n      <th>ABEV3</th>\n      <th>B3SA3</th>\n      <th>BBAS3</th>\n      <th>BBDC4</th>\n      <th>BOVA11</th>\n      <th>ITUB4</th>\n      <th>MGLU3</th>\n      <th>PETR4</th>\n      <th>VALE3</th>\n      <th>VVAR3</th>\n    </tr>\n    <tr>\n      <th>metric</th>\n      <th></th>\n      <th></th>\n      <th></th>\n      <th></th>\n      <th></th>\n      <th></th>\n      <th></th>\n      <th></th>\n      <th></th>\n      <th></th>\n    </tr>\n  </thead>\n  <tbody>\n    <tr>\n      <th>mse_test_IMF1</th>\n      <td>6.961891e-04</td>\n      <td>1.454107e-04</td>\n      <td>2.690938e-04</td>\n      <td>3.202962e-04</td>\n      <td>3.419140e-04</td>\n      <td>6.356578e-04</td>\n      <td>6.906815e-05</td>\n      <td>4.726494e-04</td>\n      <td>1.196227e-03</td>\n      <td>5.114361e-04</td>\n    </tr>\n    <tr>\n      <th>mse_test_IMF2</th>\n      <td>9.497910e-05</td>\n      <td>3.238948e-05</td>\n      <td>5.515620e-05</td>\n      <td>1.081746e-04</td>\n      <td>1.078646e-04</td>\n      <td>1.320579e-04</td>\n      <td>2.679277e-05</td>\n      <td>5.679662e-05</td>\n      <td>2.813076e-04</td>\n      <td>1.060334e-04</td>\n    </tr>\n    <tr>\n      <th>mse_test_IMF3</th>\n      <td>1.075651e-04</td>\n      <td>1.750750e-05</td>\n      <td>3.927673e-05</td>\n      <td>3.088114e-05</td>\n      <td>2.604384e-05</td>\n      <td>5.642786e-05</td>\n      <td>1.462779e-05</td>\n      <td>4.671744e-05</td>\n      <td>1.369760e-04</td>\n      <td>1.225330e-04</td>\n    </tr>\n    <tr>\n      <th>mse_test_IMF4</th>\n      <td>9.260699e-05</td>\n      <td>5.600786e-06</td>\n      <td>3.425208e-05</td>\n      <td>3.154536e-05</td>\n      <td>2.552367e-05</td>\n      <td>4.705398e-05</td>\n      <td>2.514453e-06</td>\n      <td>6.209517e-05</td>\n      <td>7.669280e-05</td>\n      <td>4.413034e-05</td>\n    </tr>\n    <tr>\n      <th>mse_test_IMF5</th>\n      <td>5.426235e-06</td>\n      <td>6.673480e-06</td>\n      <td>1.557353e-05</td>\n      <td>1.792910e-05</td>\n      <td>1.090019e-05</td>\n      <td>2.287347e-05</td>\n      <td>2.876137e-06</td>\n      <td>1.829108e-05</td>\n      <td>2.608061e-05</td>\n      <td>1.700376e-05</td>\n    </tr>\n    <tr>\n      <th>mse_test_IMF6</th>\n      <td>2.080143e-06</td>\n      <td>3.365371e-06</td>\n      <td>1.202868e-06</td>\n      <td>1.077404e-06</td>\n      <td>1.536576e-07</td>\n      <td>2.398175e-06</td>\n      <td>4.002039e-06</td>\n      <td>1.692285e-06</td>\n      <td>2.465314e-06</td>\n      <td>9.650480e-06</td>\n    </tr>\n    <tr>\n      <th>mse_test_IMF7</th>\n      <td>4.063312e-08</td>\n      <td>3.585700e-10</td>\n      <td>1.716688e-07</td>\n      <td>5.778896e-09</td>\n      <td>3.014692e-08</td>\n      <td>5.935212e-10</td>\n      <td>7.551557e-09</td>\n      <td>6.303441e-07</td>\n      <td>8.051158e-10</td>\n      <td>3.200100e-07</td>\n    </tr>\n    <tr>\n      <th>mse_test_IMF8</th>\n      <td>NaN</td>\n      <td>NaN</td>\n      <td>NaN</td>\n      <td>1.288321e-11</td>\n      <td>NaN</td>\n      <td>NaN</td>\n      <td>NaN</td>\n      <td>NaN</td>\n      <td>1.527104e-09</td>\n      <td>NaN</td>\n    </tr>\n  </tbody>\n</table>\n</div>"
     },
     "metadata": {},
     "execution_count": 5
    }
   ],
   "source": [
    "print('XLSTM CEEMDAN SPLINE')\n",
    "\n",
    "df = xlstm_ceemdan_spline_exp_dfs_concat.copy()\n",
    "\n",
    "df = df.groupby(by=df.columns, axis=1).apply(lambda g: g.mean(axis=1) if isinstance(g.iloc[0,0], numbers.Number) else g.iloc[:,0]).rename(columns={'Unnamed: 0': 'metric'}).set_index('metric')\n",
    "df = df.T\n",
    "\n",
    "df = df.groupby(by=df.columns, axis=1).apply(lambda g: g.mean(axis=1) if isinstance(g.iloc[0,0], numbers.Number) else g.iloc[:,0])\n",
    "\n",
    "# let's discard mape here\n",
    "mse_cols = [ col for col in df.columns if 'mape' not in col ]\n",
    "df = df[mse_cols].T\n",
    "\n",
    "accuracy_per_imf_xlstm_ceemdan_spline = df\n",
    "accuracy_per_imf_xlstm_ceemdan_spline"
   ]
  },
  {
   "cell_type": "markdown",
   "metadata": {},
   "source": [
    "# Absolute Average Accuracies"
   ]
  },
  {
   "cell_type": "code",
   "execution_count": 6,
   "metadata": {},
   "outputs": [
    {
     "output_type": "stream",
     "name": "stdout",
     "text": "XLSTM-CEEMDAN-SPLINE\nHow better the second is over the first\n"
    },
    {
     "output_type": "execute_result",
     "data": {
      "text/plain": "                   x+spline\nmetric                     \nmse_test_IMF1  4.657942e-04\nmse_test_IMF2  1.001552e-04\nmse_test_IMF3  5.985564e-05\nmse_test_IMF4  4.220156e-05\nmse_test_IMF5  1.436276e-05\nmse_test_IMF6  2.808774e-06\nmse_test_IMF7  1.207891e-07\nmse_test_IMF8  7.699934e-10",
      "text/html": "<div>\n<style scoped>\n    .dataframe tbody tr th:only-of-type {\n        vertical-align: middle;\n    }\n\n    .dataframe tbody tr th {\n        vertical-align: top;\n    }\n\n    .dataframe thead th {\n        text-align: right;\n    }\n</style>\n<table border=\"1\" class=\"dataframe\">\n  <thead>\n    <tr style=\"text-align: right;\">\n      <th></th>\n      <th>x+spline</th>\n    </tr>\n    <tr>\n      <th>metric</th>\n      <th></th>\n    </tr>\n  </thead>\n  <tbody>\n    <tr>\n      <th>mse_test_IMF1</th>\n      <td>4.657942e-04</td>\n    </tr>\n    <tr>\n      <th>mse_test_IMF2</th>\n      <td>1.001552e-04</td>\n    </tr>\n    <tr>\n      <th>mse_test_IMF3</th>\n      <td>5.985564e-05</td>\n    </tr>\n    <tr>\n      <th>mse_test_IMF4</th>\n      <td>4.220156e-05</td>\n    </tr>\n    <tr>\n      <th>mse_test_IMF5</th>\n      <td>1.436276e-05</td>\n    </tr>\n    <tr>\n      <th>mse_test_IMF6</th>\n      <td>2.808774e-06</td>\n    </tr>\n    <tr>\n      <th>mse_test_IMF7</th>\n      <td>1.207891e-07</td>\n    </tr>\n    <tr>\n      <th>mse_test_IMF8</th>\n      <td>7.699934e-10</td>\n    </tr>\n  </tbody>\n</table>\n</div>"
     },
     "metadata": {},
     "execution_count": 6
    }
   ],
   "source": [
    "print('XLSTM-CEEMDAN-SPLINE')\n",
    "print('How better the second is over the first')\n",
    "\n",
    "# accuracy_per_imf_xlstm_ceemdan_spline\n",
    "# accuracy_per_imf_xlstm_ceemdan\n",
    "# accuracy_per_imf_lstm_ceemdan_spline\n",
    "df = accuracy_per_imf_xlstm_ceemdan_spline\n",
    "df = df.mean(axis=1).to_frame()\n",
    "df.columns = ['x+spline']\n",
    "absolute_average_x_spline = df\n",
    "absolute_average_x_spline"
   ]
  },
  {
   "cell_type": "code",
   "execution_count": 7,
   "metadata": {},
   "outputs": [
    {
     "output_type": "stream",
     "name": "stdout",
     "text": "LSTM-CEEMDAN-SPLINE\nHow better the second is over the first\n"
    },
    {
     "output_type": "execute_result",
     "data": {
      "text/plain": "                     spline\nmetric                     \nmse_test_IMF1  5.064906e-04\nmse_test_IMF2  1.027700e-04\nmse_test_IMF3  1.432717e-05\nmse_test_IMF4  4.158267e-05\nmse_test_IMF5  1.471717e-05\nmse_test_IMF6  4.373194e-06\nmse_test_IMF7  4.710676e-07",
      "text/html": "<div>\n<style scoped>\n    .dataframe tbody tr th:only-of-type {\n        vertical-align: middle;\n    }\n\n    .dataframe tbody tr th {\n        vertical-align: top;\n    }\n\n    .dataframe thead th {\n        text-align: right;\n    }\n</style>\n<table border=\"1\" class=\"dataframe\">\n  <thead>\n    <tr style=\"text-align: right;\">\n      <th></th>\n      <th>spline</th>\n    </tr>\n    <tr>\n      <th>metric</th>\n      <th></th>\n    </tr>\n  </thead>\n  <tbody>\n    <tr>\n      <th>mse_test_IMF1</th>\n      <td>5.064906e-04</td>\n    </tr>\n    <tr>\n      <th>mse_test_IMF2</th>\n      <td>1.027700e-04</td>\n    </tr>\n    <tr>\n      <th>mse_test_IMF3</th>\n      <td>1.432717e-05</td>\n    </tr>\n    <tr>\n      <th>mse_test_IMF4</th>\n      <td>4.158267e-05</td>\n    </tr>\n    <tr>\n      <th>mse_test_IMF5</th>\n      <td>1.471717e-05</td>\n    </tr>\n    <tr>\n      <th>mse_test_IMF6</th>\n      <td>4.373194e-06</td>\n    </tr>\n    <tr>\n      <th>mse_test_IMF7</th>\n      <td>4.710676e-07</td>\n    </tr>\n  </tbody>\n</table>\n</div>"
     },
     "metadata": {},
     "execution_count": 7
    }
   ],
   "source": [
    "print('LSTM-CEEMDAN-SPLINE')\n",
    "print('How better the second is over the first')\n",
    "\n",
    "# accuracy_per_imf_xlstm_ceemdan_spline\n",
    "# accuracy_per_imf_xlstm_ceemdan\n",
    "# accuracy_per_imf_lstm_ceemdan_spline\n",
    "df = accuracy_per_imf_lstm_ceemdan_spline\n",
    "df = df.mean(axis=1).to_frame()\n",
    "df.columns = ['spline']\n",
    "absolute_average_spline = df\n",
    "absolute_average_spline"
   ]
  },
  {
   "cell_type": "code",
   "execution_count": 8,
   "metadata": {},
   "outputs": [
    {
     "output_type": "stream",
     "name": "stdout",
     "text": "LSTM-CEEMDAN\nHow better the second is over the first\n"
    },
    {
     "output_type": "execute_result",
     "data": {
      "text/plain": "                vanilla\nmetric                 \nmse_test_IMF1  0.000522\nmse_test_IMF2  0.000109\nmse_test_IMF3  0.000015\nmse_test_IMF4  0.000233\nmse_test_IMF5  0.000179\nmse_test_IMF6  0.000038\nmse_test_IMF7  0.000001",
      "text/html": "<div>\n<style scoped>\n    .dataframe tbody tr th:only-of-type {\n        vertical-align: middle;\n    }\n\n    .dataframe tbody tr th {\n        vertical-align: top;\n    }\n\n    .dataframe thead th {\n        text-align: right;\n    }\n</style>\n<table border=\"1\" class=\"dataframe\">\n  <thead>\n    <tr style=\"text-align: right;\">\n      <th></th>\n      <th>vanilla</th>\n    </tr>\n    <tr>\n      <th>metric</th>\n      <th></th>\n    </tr>\n  </thead>\n  <tbody>\n    <tr>\n      <th>mse_test_IMF1</th>\n      <td>0.000522</td>\n    </tr>\n    <tr>\n      <th>mse_test_IMF2</th>\n      <td>0.000109</td>\n    </tr>\n    <tr>\n      <th>mse_test_IMF3</th>\n      <td>0.000015</td>\n    </tr>\n    <tr>\n      <th>mse_test_IMF4</th>\n      <td>0.000233</td>\n    </tr>\n    <tr>\n      <th>mse_test_IMF5</th>\n      <td>0.000179</td>\n    </tr>\n    <tr>\n      <th>mse_test_IMF6</th>\n      <td>0.000038</td>\n    </tr>\n    <tr>\n      <th>mse_test_IMF7</th>\n      <td>0.000001</td>\n    </tr>\n  </tbody>\n</table>\n</div>"
     },
     "metadata": {},
     "execution_count": 8
    }
   ],
   "source": [
    "print('LSTM-CEEMDAN')\n",
    "print('How better the second is over the first')\n",
    "\n",
    "# accuracy_per_imf_xlstm_ceemdan_spline\n",
    "# accuracy_per_imf_xlstm_ceemdan\n",
    "# accuracy_per_imf_lstm_ceemdan_spline\n",
    "df = accuracy_per_imf_lstm_ceemdan\n",
    "df = df.mean(axis=1).to_frame()\n",
    "df.columns = ['vanilla']\n",
    "absolute_average_vanilla = df\n",
    "absolute_average_vanilla"
   ]
  },
  {
   "cell_type": "code",
   "execution_count": 9,
   "metadata": {},
   "outputs": [
    {
     "output_type": "stream",
     "name": "stdout",
     "text": "XLSTM-CEEMDAN\nHow better the second is over the first\n"
    },
    {
     "output_type": "execute_result",
     "data": {
      "text/plain": "                      x\nmetric                 \nmse_test_IMF1  0.000467\nmse_test_IMF2  0.000098\nmse_test_IMF3  0.000050\nmse_test_IMF4  0.000160\nmse_test_IMF5  0.000154\nmse_test_IMF6  0.000068\nmse_test_IMF7  0.000021",
      "text/html": "<div>\n<style scoped>\n    .dataframe tbody tr th:only-of-type {\n        vertical-align: middle;\n    }\n\n    .dataframe tbody tr th {\n        vertical-align: top;\n    }\n\n    .dataframe thead th {\n        text-align: right;\n    }\n</style>\n<table border=\"1\" class=\"dataframe\">\n  <thead>\n    <tr style=\"text-align: right;\">\n      <th></th>\n      <th>x</th>\n    </tr>\n    <tr>\n      <th>metric</th>\n      <th></th>\n    </tr>\n  </thead>\n  <tbody>\n    <tr>\n      <th>mse_test_IMF1</th>\n      <td>0.000467</td>\n    </tr>\n    <tr>\n      <th>mse_test_IMF2</th>\n      <td>0.000098</td>\n    </tr>\n    <tr>\n      <th>mse_test_IMF3</th>\n      <td>0.000050</td>\n    </tr>\n    <tr>\n      <th>mse_test_IMF4</th>\n      <td>0.000160</td>\n    </tr>\n    <tr>\n      <th>mse_test_IMF5</th>\n      <td>0.000154</td>\n    </tr>\n    <tr>\n      <th>mse_test_IMF6</th>\n      <td>0.000068</td>\n    </tr>\n    <tr>\n      <th>mse_test_IMF7</th>\n      <td>0.000021</td>\n    </tr>\n  </tbody>\n</table>\n</div>"
     },
     "metadata": {},
     "execution_count": 9
    }
   ],
   "source": [
    "print('XLSTM-CEEMDAN')\n",
    "print('How better the second is over the first')\n",
    "\n",
    "# accuracy_per_imf_xlstm_ceemdan_spline\n",
    "# accuracy_per_imf_xlstm_ceemdan\n",
    "# accuracy_per_imf_lstm_ceemdan_spline\n",
    "df = accuracy_per_imf_xlstm_ceemdan\n",
    "df = df.mean(axis=1).to_frame()\n",
    "df.columns = ['x']\n",
    "absolute_average_x = df\n",
    "absolute_average_x"
   ]
  },
  {
   "cell_type": "code",
   "execution_count": 10,
   "metadata": {},
   "outputs": [
    {
     "output_type": "stream",
     "name": "stdout",
     "text": "Absolute averages comparisons\nneural/spline threshold at IMF3\n"
    },
    {
     "output_type": "execute_result",
     "data": {
      "text/plain": "                   vanilla            x       spline      x+spline\nmse_test_IMF1  0.000522062  0.000466955  0.000506491  4.657942e-04\nmse_test_IMF2  0.000108701  9.76403e-05   0.00010277  1.001552e-04\nmse_test_IMF3  1.48968e-05  4.95734e-05  1.43272e-05  5.985564e-05\nmse_test_IMF4  0.000233449  0.000159699  4.15827e-05  4.220156e-05\nmse_test_IMF5  0.000178698  0.000154039  1.47172e-05  1.436276e-05\nmse_test_IMF6  3.78385e-05  6.80404e-05  4.37319e-06  2.808774e-06\nmse_test_IMF7  1.27753e-06  2.09353e-05  4.71068e-07  1.207891e-07\nmse_test_IMF8          ---          ---          ---  7.699934e-10",
      "text/html": "<div>\n<style scoped>\n    .dataframe tbody tr th:only-of-type {\n        vertical-align: middle;\n    }\n\n    .dataframe tbody tr th {\n        vertical-align: top;\n    }\n\n    .dataframe thead th {\n        text-align: right;\n    }\n</style>\n<table border=\"1\" class=\"dataframe\">\n  <thead>\n    <tr style=\"text-align: right;\">\n      <th></th>\n      <th>vanilla</th>\n      <th>x</th>\n      <th>spline</th>\n      <th>x+spline</th>\n    </tr>\n  </thead>\n  <tbody>\n    <tr>\n      <th>mse_test_IMF1</th>\n      <td>0.000522062</td>\n      <td>0.000466955</td>\n      <td>0.000506491</td>\n      <td>4.657942e-04</td>\n    </tr>\n    <tr>\n      <th>mse_test_IMF2</th>\n      <td>0.000108701</td>\n      <td>9.76403e-05</td>\n      <td>0.00010277</td>\n      <td>1.001552e-04</td>\n    </tr>\n    <tr>\n      <th>mse_test_IMF3</th>\n      <td>1.48968e-05</td>\n      <td>4.95734e-05</td>\n      <td>1.43272e-05</td>\n      <td>5.985564e-05</td>\n    </tr>\n    <tr>\n      <th>mse_test_IMF4</th>\n      <td>0.000233449</td>\n      <td>0.000159699</td>\n      <td>4.15827e-05</td>\n      <td>4.220156e-05</td>\n    </tr>\n    <tr>\n      <th>mse_test_IMF5</th>\n      <td>0.000178698</td>\n      <td>0.000154039</td>\n      <td>1.47172e-05</td>\n      <td>1.436276e-05</td>\n    </tr>\n    <tr>\n      <th>mse_test_IMF6</th>\n      <td>3.78385e-05</td>\n      <td>6.80404e-05</td>\n      <td>4.37319e-06</td>\n      <td>2.808774e-06</td>\n    </tr>\n    <tr>\n      <th>mse_test_IMF7</th>\n      <td>1.27753e-06</td>\n      <td>2.09353e-05</td>\n      <td>4.71068e-07</td>\n      <td>1.207891e-07</td>\n    </tr>\n    <tr>\n      <th>mse_test_IMF8</th>\n      <td>---</td>\n      <td>---</td>\n      <td>---</td>\n      <td>7.699934e-10</td>\n    </tr>\n  </tbody>\n</table>\n</div>"
     },
     "metadata": {},
     "execution_count": 10
    }
   ],
   "source": [
    "print('Absolute averages comparisons')\n",
    "print('neural/spline threshold at IMF3')\n",
    "pd.concat([absolute_average_vanilla, absolute_average_x, absolute_average_spline, absolute_average_x_spline], axis=1).fillna('---')"
   ]
  },
  {
   "cell_type": "markdown",
   "metadata": {},
   "source": [
    "# Improvements"
   ]
  },
  {
   "cell_type": "code",
   "execution_count": 11,
   "metadata": {},
   "outputs": [
    {
     "output_type": "stream",
     "name": "stdout",
     "text": "LSTM-CEEMDAN Vs XLSTM-CEEMDAN-SPLINE\nHow better the second is over the first\n"
    },
    {
     "output_type": "execute_result",
     "data": {
      "text/plain": "                x+spline\nmetric                  \nmse_test_IMF1    9.58100\nmse_test_IMF2    0.53200\nmse_test_IMF3 -311.52800\nmse_test_IMF4   80.61400\nmse_test_IMF5   91.38800\nmse_test_IMF6   74.83625\nmse_test_IMF7   74.95000\nmse_test_IMF8        NaN",
      "text/html": "<div>\n<style scoped>\n    .dataframe tbody tr th:only-of-type {\n        vertical-align: middle;\n    }\n\n    .dataframe tbody tr th {\n        vertical-align: top;\n    }\n\n    .dataframe thead th {\n        text-align: right;\n    }\n</style>\n<table border=\"1\" class=\"dataframe\">\n  <thead>\n    <tr style=\"text-align: right;\">\n      <th></th>\n      <th>x+spline</th>\n    </tr>\n    <tr>\n      <th>metric</th>\n      <th></th>\n    </tr>\n  </thead>\n  <tbody>\n    <tr>\n      <th>mse_test_IMF1</th>\n      <td>9.58100</td>\n    </tr>\n    <tr>\n      <th>mse_test_IMF2</th>\n      <td>0.53200</td>\n    </tr>\n    <tr>\n      <th>mse_test_IMF3</th>\n      <td>-311.52800</td>\n    </tr>\n    <tr>\n      <th>mse_test_IMF4</th>\n      <td>80.61400</td>\n    </tr>\n    <tr>\n      <th>mse_test_IMF5</th>\n      <td>91.38800</td>\n    </tr>\n    <tr>\n      <th>mse_test_IMF6</th>\n      <td>74.83625</td>\n    </tr>\n    <tr>\n      <th>mse_test_IMF7</th>\n      <td>74.95000</td>\n    </tr>\n    <tr>\n      <th>mse_test_IMF8</th>\n      <td>NaN</td>\n    </tr>\n  </tbody>\n</table>\n</div>"
     },
     "metadata": {},
     "execution_count": 11
    }
   ],
   "source": [
    "print('LSTM-CEEMDAN Vs XLSTM-CEEMDAN-SPLINE')\n",
    "print('How better the second is over the first')\n",
    "\n",
    "# accuracy_per_imf_xlstm_ceemdan_spline\n",
    "# accuracy_per_imf_xlstm_ceemdan\n",
    "# accuracy_per_imf_lstm_ceemdan_spline\n",
    "df = 1 - accuracy_per_imf_xlstm_ceemdan_spline/accuracy_per_imf_lstm_ceemdan\n",
    "df = df*100\n",
    "df = df.round(decimals=2).mean(axis=1).to_frame()\n",
    "df.columns = ['x+spline']\n",
    "improv_x_spline = df\n",
    "improv_x_spline"
   ]
  },
  {
   "cell_type": "code",
   "execution_count": 12,
   "metadata": {},
   "outputs": [
    {
     "output_type": "stream",
     "name": "stdout",
     "text": "LSTM-CEEMDAN Vs LSTM-CEEMDAN-SPLINE\nHow better the second is over the first\n"
    },
    {
     "output_type": "execute_result",
     "data": {
      "text/plain": "               spline\nmetric               \nmse_test_IMF1   2.985\nmse_test_IMF2   1.262\nmse_test_IMF3   7.876\nmse_test_IMF4  80.695\nmse_test_IMF5  91.104\nmse_test_IMF6  71.980\nmse_test_IMF7  63.130",
      "text/html": "<div>\n<style scoped>\n    .dataframe tbody tr th:only-of-type {\n        vertical-align: middle;\n    }\n\n    .dataframe tbody tr th {\n        vertical-align: top;\n    }\n\n    .dataframe thead th {\n        text-align: right;\n    }\n</style>\n<table border=\"1\" class=\"dataframe\">\n  <thead>\n    <tr style=\"text-align: right;\">\n      <th></th>\n      <th>spline</th>\n    </tr>\n    <tr>\n      <th>metric</th>\n      <th></th>\n    </tr>\n  </thead>\n  <tbody>\n    <tr>\n      <th>mse_test_IMF1</th>\n      <td>2.985</td>\n    </tr>\n    <tr>\n      <th>mse_test_IMF2</th>\n      <td>1.262</td>\n    </tr>\n    <tr>\n      <th>mse_test_IMF3</th>\n      <td>7.876</td>\n    </tr>\n    <tr>\n      <th>mse_test_IMF4</th>\n      <td>80.695</td>\n    </tr>\n    <tr>\n      <th>mse_test_IMF5</th>\n      <td>91.104</td>\n    </tr>\n    <tr>\n      <th>mse_test_IMF6</th>\n      <td>71.980</td>\n    </tr>\n    <tr>\n      <th>mse_test_IMF7</th>\n      <td>63.130</td>\n    </tr>\n  </tbody>\n</table>\n</div>"
     },
     "metadata": {},
     "execution_count": 12
    }
   ],
   "source": [
    "print('LSTM-CEEMDAN Vs LSTM-CEEMDAN-SPLINE')\n",
    "print('How better the second is over the first')\n",
    "\n",
    "# accuracy_per_imf_xlstm_ceemdan_spline\n",
    "# accuracy_per_imf_xlstm_ceemdan\n",
    "# accuracy_per_imf_lstm_ceemdan_spline\n",
    "df = 1 - accuracy_per_imf_lstm_ceemdan_spline/accuracy_per_imf_lstm_ceemdan\n",
    "df = df*100\n",
    "df = df.round(decimals=2).mean(axis=1).to_frame()\n",
    "df.columns = ['spline']\n",
    "improv_spline = df\n",
    "improv_spline"
   ]
  },
  {
   "cell_type": "code",
   "execution_count": 13,
   "metadata": {},
   "outputs": [
    {
     "output_type": "stream",
     "name": "stdout",
     "text": "LSTM-CEEMDAN Vs XLSTM-CEEMDAN\nHow better the second is over the first\n"
    },
    {
     "output_type": "execute_result",
     "data": {
      "text/plain": "                       x\nmetric                  \nmse_test_IMF1    10.4340\nmse_test_IMF2     3.8540\nmse_test_IMF3  -270.2340\nmse_test_IMF4    18.2010\nmse_test_IMF5   -36.3600\nmse_test_IMF6 -1333.1275\nmse_test_IMF7 -1538.7400",
      "text/html": "<div>\n<style scoped>\n    .dataframe tbody tr th:only-of-type {\n        vertical-align: middle;\n    }\n\n    .dataframe tbody tr th {\n        vertical-align: top;\n    }\n\n    .dataframe thead th {\n        text-align: right;\n    }\n</style>\n<table border=\"1\" class=\"dataframe\">\n  <thead>\n    <tr style=\"text-align: right;\">\n      <th></th>\n      <th>x</th>\n    </tr>\n    <tr>\n      <th>metric</th>\n      <th></th>\n    </tr>\n  </thead>\n  <tbody>\n    <tr>\n      <th>mse_test_IMF1</th>\n      <td>10.4340</td>\n    </tr>\n    <tr>\n      <th>mse_test_IMF2</th>\n      <td>3.8540</td>\n    </tr>\n    <tr>\n      <th>mse_test_IMF3</th>\n      <td>-270.2340</td>\n    </tr>\n    <tr>\n      <th>mse_test_IMF4</th>\n      <td>18.2010</td>\n    </tr>\n    <tr>\n      <th>mse_test_IMF5</th>\n      <td>-36.3600</td>\n    </tr>\n    <tr>\n      <th>mse_test_IMF6</th>\n      <td>-1333.1275</td>\n    </tr>\n    <tr>\n      <th>mse_test_IMF7</th>\n      <td>-1538.7400</td>\n    </tr>\n  </tbody>\n</table>\n</div>"
     },
     "metadata": {},
     "execution_count": 13
    }
   ],
   "source": [
    "print('LSTM-CEEMDAN Vs XLSTM-CEEMDAN')\n",
    "print('How better the second is over the first')\n",
    "\n",
    "# accuracy_per_imf_xlstm_ceemdan_spline\n",
    "# accuracy_per_imf_xlstm_ceemdan\n",
    "# accuracy_per_imf_lstm_ceemdan_spline\n",
    "df = 1 - accuracy_per_imf_xlstm_ceemdan/accuracy_per_imf_lstm_ceemdan\n",
    "df = df*100\n",
    "df = df.round(decimals=2).mean(axis=1).to_frame()\n",
    "df.columns = ['x']\n",
    "improv_x = df\n",
    "improv_x"
   ]
  },
  {
   "cell_type": "code",
   "execution_count": 14,
   "metadata": {},
   "outputs": [
    {
     "output_type": "stream",
     "name": "stdout",
     "text": "Improvements comparisons\n"
    },
    {
     "output_type": "execute_result",
     "data": {
      "text/plain": "               spline        x x+spline\nmse_test_IMF1   2.985   10.434    9.581\nmse_test_IMF2   1.262    3.854    0.532\nmse_test_IMF3   7.876 -270.234 -311.528\nmse_test_IMF4  80.695   18.201   80.614\nmse_test_IMF5  91.104   -36.36   91.388\nmse_test_IMF6   71.98 -1333.13  74.8363\nmse_test_IMF7   63.13 -1538.74    74.95\nmse_test_IMF8     ---      ---      ---",
      "text/html": "<div>\n<style scoped>\n    .dataframe tbody tr th:only-of-type {\n        vertical-align: middle;\n    }\n\n    .dataframe tbody tr th {\n        vertical-align: top;\n    }\n\n    .dataframe thead th {\n        text-align: right;\n    }\n</style>\n<table border=\"1\" class=\"dataframe\">\n  <thead>\n    <tr style=\"text-align: right;\">\n      <th></th>\n      <th>spline</th>\n      <th>x</th>\n      <th>x+spline</th>\n    </tr>\n  </thead>\n  <tbody>\n    <tr>\n      <th>mse_test_IMF1</th>\n      <td>2.985</td>\n      <td>10.434</td>\n      <td>9.581</td>\n    </tr>\n    <tr>\n      <th>mse_test_IMF2</th>\n      <td>1.262</td>\n      <td>3.854</td>\n      <td>0.532</td>\n    </tr>\n    <tr>\n      <th>mse_test_IMF3</th>\n      <td>7.876</td>\n      <td>-270.234</td>\n      <td>-311.528</td>\n    </tr>\n    <tr>\n      <th>mse_test_IMF4</th>\n      <td>80.695</td>\n      <td>18.201</td>\n      <td>80.614</td>\n    </tr>\n    <tr>\n      <th>mse_test_IMF5</th>\n      <td>91.104</td>\n      <td>-36.36</td>\n      <td>91.388</td>\n    </tr>\n    <tr>\n      <th>mse_test_IMF6</th>\n      <td>71.98</td>\n      <td>-1333.13</td>\n      <td>74.8363</td>\n    </tr>\n    <tr>\n      <th>mse_test_IMF7</th>\n      <td>63.13</td>\n      <td>-1538.74</td>\n      <td>74.95</td>\n    </tr>\n    <tr>\n      <th>mse_test_IMF8</th>\n      <td>---</td>\n      <td>---</td>\n      <td>---</td>\n    </tr>\n  </tbody>\n</table>\n</div>"
     },
     "metadata": {},
     "execution_count": 14
    }
   ],
   "source": [
    "print('Improvements comparisons')\n",
    "pd.concat([improv_spline, improv_x, improv_x_spline], axis=1).fillna('---')\n"
   ]
  }
 ],
 "metadata": {
  "language_info": {
   "codemirror_mode": {
    "name": "ipython",
    "version": 3
   },
   "file_extension": ".py",
   "mimetype": "text/x-python",
   "name": "python",
   "nbconvert_exporter": "python",
   "pygments_lexer": "ipython3",
   "version": "3.7.4-final"
  },
  "orig_nbformat": 2,
  "kernelspec": {
   "name": "python37464bit1abd2d5f941841b49c9f1b2b4252e81e",
   "display_name": "Python 3.7.4 64-bit"
  }
 },
 "nbformat": 4,
 "nbformat_minor": 2
}